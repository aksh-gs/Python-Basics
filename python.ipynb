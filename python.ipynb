{
 "cells": [
  {
   "cell_type": "code",
   "execution_count": 3,
   "id": "d1b2ee56",
   "metadata": {},
   "outputs": [
    {
     "name": "stdout",
     "output_type": "stream",
     "text": [
      "12\n",
      "32\n"
     ]
    }
   ],
   "source": [
    "#dictinory\n",
    "a={'deve':21,'egg':12,'kik':32}\n",
    "print(a['egg'])\n",
    "print(a['kik'])"
   ]
  },
  {
   "cell_type": "code",
   "execution_count": 4,
   "id": "9f25325e",
   "metadata": {},
   "outputs": [
    {
     "name": "stdout",
     "output_type": "stream",
     "text": [
      "{'n': 1, 'b': 4, 'c': 5}\n"
     ]
    }
   ],
   "source": [
    "a=dict({'n':1,'b':4,'c':5})\n",
    "print(a)"
   ]
  },
  {
   "cell_type": "code",
   "execution_count": 5,
   "id": "7f63b8b8",
   "metadata": {},
   "outputs": [
    {
     "name": "stdout",
     "output_type": "stream",
     "text": [
      "{1: 1, 'null': 23, 3: 3, 4: 9, 6: 12, 'mud': 10}\n"
     ]
    }
   ],
   "source": [
    "b={1:1,'null':23,3:3,4:9}\n",
    "b[6]=12\n",
    "b['mud']=10\n",
    "print(b)"
   ]
  },
  {
   "cell_type": "code",
   "execution_count": 11,
   "id": "5d7f61e6",
   "metadata": {},
   "outputs": [
    {
     "name": "stdout",
     "output_type": "stream",
     "text": [
      "True\n",
      "False\n",
      "True\n",
      "False\n"
     ]
    }
   ],
   "source": [
    "num={'one':1,'two':2,'three':3}\n",
    "print(not 4 in num)\n",
    "print(1 in num)\n",
    "print('two'in num)\n",
    "print(not 'one'in num)"
   ]
  },
  {
   "cell_type": "code",
   "execution_count": 16,
   "id": "7f388f7d",
   "metadata": {},
   "outputs": [
    {
     "name": "stdout",
     "output_type": "stream",
     "text": [
      "[2, 3, 4]\n",
      "None\n",
      "None\n",
      "{1: 'apple', 'orange': [2, 3, 4], 'pipe': 34, 'white': 3}\n"
     ]
    }
   ],
   "source": [
    "p={1:'apple','orange':[2,3,4],'pipe':34}\n",
    "print(p.get('orange'))\n",
    "print(p.get(34))\n",
    "print(p.get(23))\n",
    "p.update({'white':3})\n",
    "print(p)"
   ]
  },
  {
   "cell_type": "code",
   "execution_count": 18,
   "id": "e4263f61",
   "metadata": {},
   "outputs": [
    {
     "name": "stdout",
     "output_type": "stream",
     "text": [
      "{'dell': 3, 'ble': 7, 'black': 34, 1: 45}\n",
      "{'dell': 3, 'ble': 7, 'black': 34}\n"
     ]
    }
   ],
   "source": [
    "dic={'dell':3,'ble':7,'black':34,1:45,44:43}\n",
    "dic.pop(44)\n",
    "print(dic)\n",
    "dic.popitem()\n",
    "print(dic)"
   ]
  },
  {
   "cell_type": "code",
   "execution_count": 22,
   "id": "8a80a715",
   "metadata": {},
   "outputs": [
    {
     "name": "stdout",
     "output_type": "stream",
     "text": [
      "<class 'tuple'>\n",
      "('soap', 'one', 'word', 'kic', 'bad')\n",
      "2\n",
      "one\n"
     ]
    }
   ],
   "source": [
    "b='soap','one','word'\n",
    "print(type(b))\n",
    "c='kic','bad'\n",
    "print(b+c)\n",
    "print(len(c))\n",
    "print(b[1])"
   ]
  },
  {
   "cell_type": "code",
   "execution_count": 43,
   "id": "1cecb77e",
   "metadata": {},
   "outputs": [
    {
     "name": "stdout",
     "output_type": "stream",
     "text": [
      "<class 'set'>\n",
      "<class 'dict'>\n",
      "<class 'set'>\n",
      "False\n",
      "True\n",
      "{1, 2, 3, 4, 5, 6, 7, 8}\n",
      "{1, 2, 3, 4, 5, 6, 7, 8, 'a', 'k', 'c', 'b', 'l'}\n"
     ]
    }
   ],
   "source": [
    "a={'set',1,3,'give','dot'}\n",
    "print(type(a))\n",
    "b={}\n",
    "print(type(b))\n",
    "b=set()\n",
    "print(type(b))\n",
    "c={1,2,3,4,5}\n",
    "print(not 2 in c)\n",
    "print(5 in c)\n",
    "c.update((6,7,8))\n",
    "print(c)\n",
    "c.update('black')\n",
    "print(c)"
   ]
  },
  {
   "cell_type": "code",
   "execution_count": 3,
   "id": "790c7eca",
   "metadata": {},
   "outputs": [
    {
     "name": "stdout",
     "output_type": "stream",
     "text": [
      "[3, 4, 5, 6]\n",
      "[1, 2, 3, 4]\n",
      "[3, 4, 5, 6, 7, 8, 9, 10]\n"
     ]
    }
   ],
   "source": [
    "#list slice\n",
    "s=[1,2,3,4,5,6,7,8,9,10]\n",
    "print(s[2:6])\n",
    "print(s[:4])\n",
    "print(s[2:])"
   ]
  },
  {
   "cell_type": "code",
   "execution_count": 2,
   "id": "a55c0e02",
   "metadata": {},
   "outputs": [
    {
     "name": "stdout",
     "output_type": "stream",
     "text": [
      "[3, 5, 7]\n",
      "[3, 5, 7, 9]\n",
      "[10, 9, 8, 7, 6, 5, 4, 3, 2, 1]\n",
      "[6, 7, 8]\n",
      "[]\n"
     ]
    }
   ],
   "source": [
    "b=[1,2,3,4,5,6,7,8,9,10]\n",
    "print(b[2:7:2])\n",
    "print(b[2::2])\n",
    "print(b[::-1])\n",
    "print(b[-5:-2])\n",
    "print(b[-1:-9])\n",
    "      "
   ]
  },
  {
   "cell_type": "code",
   "execution_count": 3,
   "id": "adfd2dae",
   "metadata": {},
   "outputs": [
    {
     "name": "stdout",
     "output_type": "stream",
     "text": [
      "[2, 4, 6, 8]\n"
     ]
    }
   ],
   "source": [
    "b=[1,2,3,4,5,6,7,8,9,10]\n",
    "print(b[-9:-1:2])"
   ]
  },
  {
   "cell_type": "code",
   "execution_count": 18,
   "id": "ddf3d22d",
   "metadata": {},
   "outputs": [
    {
     "name": "stdout",
     "output_type": "stream",
     "text": [
      "[2, 4, 6, 8]\n"
     ]
    }
   ],
   "source": [
    "b=[1,2,3,4,5,6,7,8,9,10]\n",
    "print(b[-9:-1:2])"
   ]
  },
  {
   "cell_type": "code",
   "execution_count": 22,
   "id": "66ebb9d0",
   "metadata": {},
   "outputs": [
    {
     "name": "stdout",
     "output_type": "stream",
     "text": [
      "llo\n",
      "hellow\n",
      "lloworld\n"
     ]
    }
   ],
   "source": [
    "b=\"helloworld\"\n",
    "print(b[2:5])\n",
    "print(b[:6])\n",
    "print(b[2:])\n"
   ]
  },
  {
   "cell_type": "code",
   "execution_count": 24,
   "id": "b55532fe",
   "metadata": {},
   "outputs": [
    {
     "name": "stdout",
     "output_type": "stream",
     "text": [
      "[0, 1, 8, 27, 64]\n"
     ]
    }
   ],
   "source": [
    "#list compherhention\n",
    "bo=[i**3 for i in range(5)]\n",
    "print(bo)"
   ]
  },
  {
   "cell_type": "code",
   "execution_count": 26,
   "id": "d79c7d68",
   "metadata": {},
   "outputs": [
    {
     "name": "stdout",
     "output_type": "stream",
     "text": [
      "[0, 2, 4, 6, 8]\n"
     ]
    }
   ],
   "source": [
    "even=[i for i in range(10)if i%2==0]\n",
    "print(even)"
   ]
  },
  {
   "cell_type": "code",
   "execution_count": 27,
   "id": "11936bab",
   "metadata": {},
   "outputs": [
    {
     "name": "stdout",
     "output_type": "stream",
     "text": [
      "[0, 4, 16, 36, 64]\n"
     ]
    }
   ],
   "source": [
    "q=[i**2 for i in range(10)if i%2==0]\n",
    "print(q)"
   ]
  },
  {
   "cell_type": "code",
   "execution_count": 29,
   "id": "02c4358f",
   "metadata": {},
   "outputs": [
    {
     "name": "stdout",
     "output_type": "stream",
     "text": [
      "[0, 1, 2, 3, 4, 5]\n"
     ]
    }
   ],
   "source": [
    "eg=[i for i in range(10) if i<=5]\n",
    "print(eg)"
   ]
  },
  {
   "cell_type": "code",
   "execution_count": 42,
   "id": "d837c110",
   "metadata": {},
   "outputs": [
    {
     "name": "stdout",
     "output_type": "stream",
     "text": [
      "[11, 12, 13, 14, 15, 16, 17, 18, 19]\n"
     ]
    }
   ],
   "source": [
    "ep=[i for i in range(20) if i>10]\n",
    "print(ep)"
   ]
  },
  {
   "cell_type": "code",
   "execution_count": 32,
   "id": "60d3b057",
   "metadata": {},
   "outputs": [
    {
     "name": "stdout",
     "output_type": "stream",
     "text": [
      "['apple', 'bannana', 'mango']\n"
     ]
    }
   ],
   "source": [
    "fp=['apple','bannana','chille','mango']\n",
    "new=[]\n",
    "for i in fp:\n",
    "    if 'a' in i:\n",
    "        new.append(i)\n",
    "print(new)"
   ]
  },
  {
   "cell_type": "code",
   "execution_count": 35,
   "id": "ba902089",
   "metadata": {},
   "outputs": [
    {
     "name": "stdout",
     "output_type": "stream",
     "text": [
      "['apple', 'bannana', 'mango']\n"
     ]
    }
   ],
   "source": [
    "fp=['apple','bannana','chille','mango']\n",
    "n=[i for i in fp if 'a' in i]\n",
    "print(n)"
   ]
  },
  {
   "cell_type": "code",
   "execution_count": 41,
   "id": "6a4295dc",
   "metadata": {},
   "outputs": [
    {
     "name": "stdout",
     "output_type": "stream",
     "text": [
      "['APPLE', 'BANNANA', 'CHILLE', 'MANGO']\n"
     ]
    }
   ],
   "source": [
    "fp=['apple','bannana','chille','mango']\n",
    "n=[i.upper() for i in fp ]\n",
    "print(n)"
   ]
  },
  {
   "cell_type": "code",
   "execution_count": 45,
   "id": "5ffa9001",
   "metadata": {},
   "outputs": [
    {
     "name": "stdout",
     "output_type": "stream",
     "text": [
      "my name is ravi my age is 23 \n"
     ]
    }
   ],
   "source": [
    "#string formating\n",
    "a='my name is {fname} my age is {age} '.format(fname='ravi',age=23)\n",
    "print(a)"
   ]
  },
  {
   "cell_type": "code",
   "execution_count": 48,
   "id": "05ab4862",
   "metadata": {},
   "outputs": [
    {
     "name": "stdout",
     "output_type": "stream",
     "text": [
      "my name is Ravi my age is 23\n"
     ]
    }
   ],
   "source": [
    "a='my name is {0} my age is {1}'.format('Ravi',23)\n",
    "print(a)"
   ]
  },
  {
   "cell_type": "code",
   "execution_count": 50,
   "id": "e5be54b5",
   "metadata": {},
   "outputs": [
    {
     "name": "stdout",
     "output_type": "stream",
     "text": [
      "number: 456\n"
     ]
    }
   ],
   "source": [
    "num=[4,5,6]\n",
    "m='number: {0}{1}{2}'.format(num[0],num[1],num[2])\n",
    "print(m)"
   ]
  },
  {
   "cell_type": "code",
   "execution_count": 53,
   "id": "1bbc2974",
   "metadata": {},
   "outputs": [
    {
     "name": "stdout",
     "output_type": "stream",
     "text": [
      "apps,spam,ham\n"
     ]
    }
   ],
   "source": [
    "print(','.join(['apps','spam','ham']))"
   ]
  },
  {
   "cell_type": "code",
   "execution_count": 54,
   "id": "f076a004",
   "metadata": {},
   "outputs": [
    {
     "name": "stdout",
     "output_type": "stream",
     "text": [
      "HELLO AKASH\n"
     ]
    }
   ],
   "source": [
    "print('HELLO me'.replace('me','AKASH'))"
   ]
  },
  {
   "cell_type": "code",
   "execution_count": 58,
   "id": "33e39fc2",
   "metadata": {},
   "outputs": [
    {
     "name": "stdout",
     "output_type": "stream",
     "text": [
      "True\n",
      "True\n"
     ]
    }
   ],
   "source": [
    "print('hey guyz my name is v.'.startswith('hey'))\n",
    "print('hey guyz my name is v.'.endswith('v.'))"
   ]
  },
  {
   "cell_type": "code",
   "execution_count": 59,
   "id": "2e755cbf",
   "metadata": {},
   "outputs": [
    {
     "name": "stdout",
     "output_type": "stream",
     "text": [
      "['spam', 'eggs', 'ham']\n"
     ]
    }
   ],
   "source": [
    "print('spam,eggs,ham'.split(','))"
   ]
  },
  {
   "cell_type": "code",
   "execution_count": 63,
   "id": "28582a6f",
   "metadata": {},
   "outputs": [
    {
     "name": "stdout",
     "output_type": "stream",
     "text": [
      "all large\n",
      "at least one is even\n",
      "(0, 55)\n",
      "(1, 44)\n",
      "(2, 33)\n",
      "(3, 22)\n",
      "(4, 11)\n"
     ]
    }
   ],
   "source": [
    "# any,all,enumerate\n",
    "num=[55,44,33,22,11]\n",
    "if all([i>5 for i in num]):\n",
    "    print('all large')\n",
    "if any([i%2==0 for i in num]):\n",
    "    print('at least one is even')\n",
    "for v in enumerate(num):\n",
    "    print(v)"
   ]
  },
  {
   "cell_type": "code",
   "execution_count": 2,
   "id": "39d3217a",
   "metadata": {},
   "outputs": [
    {
     "name": "stdout",
     "output_type": "stream",
     "text": [
      "first item\n",
      "10\n",
      "second item\n",
      "20\n",
      "last item\n",
      "30\n"
     ]
    }
   ],
   "source": [
    "#generetor\n",
    "def mygenerate():\n",
    "    print('first item')\n",
    "    yield(10)\n",
    "    \n",
    "    print('second item')\n",
    "    yield(20)\n",
    "    \n",
    "    print('last item')\n",
    "    yield(30)\n",
    "for i in mygenerate():\n",
    "    print(i)\n"
   ]
  },
  {
   "cell_type": "code",
   "execution_count": 7,
   "id": "835b2330",
   "metadata": {},
   "outputs": [
    {
     "name": "stdout",
     "output_type": "stream",
     "text": [
      "0\n",
      "1\n",
      "2\n",
      "3\n",
      "4\n"
     ]
    }
   ],
   "source": [
    "def get(x):\n",
    "    for i in range(x):\n",
    "        yield(i)\n",
    "seq=get(5)\n",
    "for i in seq:\n",
    "    print(i)\n"
   ]
  },
  {
   "cell_type": "code",
   "execution_count": 1,
   "id": "925b92de",
   "metadata": {},
   "outputs": [
    {
     "name": "stdout",
     "output_type": "stream",
     "text": [
      "120\n"
     ]
    }
   ],
   "source": [
    "#recuration\n",
    "def factorial(x):\n",
    "    if x==1:\n",
    "        return 1\n",
    "    else:\n",
    "        return x* factorial(x-1)\n",
    "print(factorial(5))"
   ]
  },
  {
   "cell_type": "code",
   "execution_count": 3,
   "id": "c5eca785",
   "metadata": {},
   "outputs": [
    {
     "name": "stdout",
     "output_type": "stream",
     "text": [
      "1.1428571428571428\n"
     ]
    }
   ],
   "source": [
    "#pure funtion\n",
    "def pure_funtion(x,y):\n",
    "    temp=x+2*y\n",
    "    return temp /(2*x+y)\n",
    "print(pure_funtion(2,3))"
   ]
  },
  {
   "cell_type": "code",
   "execution_count": 4,
   "id": "0588a1c4",
   "metadata": {},
   "outputs": [
    {
     "name": "stdout",
     "output_type": "stream",
     "text": [
      "[6]\n"
     ]
    }
   ],
   "source": [
    "#im pure funtion\n",
    "a=[]\n",
    "def impure_funtion(arg):\n",
    "    a.append(arg)\n",
    "    return a\n",
    "print(impure_funtion(6))\n"
   ]
  },
  {
   "cell_type": "code",
   "execution_count": 6,
   "id": "d6833a93",
   "metadata": {},
   "outputs": [
    {
     "name": "stdout",
     "output_type": "stream",
     "text": [
      "2\n",
      "4\n",
      "6\n",
      "8\n",
      "10\n",
      "12\n"
     ]
    }
   ],
   "source": [
    "#itertools\n",
    "from itertools import count\n",
    "for i in count(2,2):\n",
    "    print(i)\n",
    "    if i>=12:\n",
    "        break"
   ]
  },
  {
   "cell_type": "code",
   "execution_count": 11,
   "id": "2bc74b8e",
   "metadata": {},
   "outputs": [
    {
     "name": "stdout",
     "output_type": "stream",
     "text": [
      "2\n",
      "4\n",
      "6\n",
      "8\n",
      "10\n",
      "12\n",
      "14\n",
      "16\n",
      "18\n"
     ]
    }
   ],
   "source": [
    "import itertools\n",
    "for i in itertools.count(2,2):\n",
    "    print(i)\n",
    "    if i>=17:\n",
    "        break\n"
   ]
  },
  {
   "cell_type": "code",
   "execution_count": 9,
   "id": "00ecdcec",
   "metadata": {},
   "outputs": [
    {
     "name": "stdout",
     "output_type": "stream",
     "text": [
      "[0, 1, 3, 6, 10, 15, 21, 28]\n"
     ]
    }
   ],
   "source": [
    "#itertools accumulate\n",
    "from itertools import accumulate\n",
    "n=list(accumulate(range(8)))\n",
    "print(n)"
   ]
  },
  {
   "cell_type": "code",
   "execution_count": 2,
   "id": "4b79a7b1",
   "metadata": {},
   "outputs": [
    {
     "name": "stdout",
     "output_type": "stream",
     "text": [
      "[1, 2, 3, 4, 5, 6]\n"
     ]
    }
   ],
   "source": [
    "# takewhile\n",
    "from itertools import takewhile\n",
    "b=[1,2,3,4,5,6,7]\n",
    "print(list(takewhile(lambda x:x<=6,b)))"
   ]
  },
  {
   "cell_type": "code",
   "execution_count": 4,
   "id": "55dd2460",
   "metadata": {},
   "outputs": [
    {
     "name": "stdout",
     "output_type": "stream",
     "text": [
      "[('x', 0), ('x', 1), ('x', 2), ('y', 0), ('y', 1), ('y', 2)]\n"
     ]
    }
   ],
   "source": [
    "#product\n",
    "from itertools import product\n",
    "le=('x','y')\n",
    "print(list(product(le,range(3))))\n"
   ]
  },
  {
   "cell_type": "code",
   "execution_count": 5,
   "id": "f08030cf",
   "metadata": {},
   "outputs": [
    {
     "name": "stdout",
     "output_type": "stream",
     "text": [
      "[('a', 'b'), ('b', 'a')]\n"
     ]
    }
   ],
   "source": [
    "#permution\n",
    "from itertools import permutations\n",
    "be=('a','b')\n",
    "print(list(permutations(be)))"
   ]
  },
  {
   "cell_type": "code",
   "execution_count": 7,
   "id": "cdaed9a3",
   "metadata": {},
   "outputs": [
    {
     "name": "stdout",
     "output_type": "stream",
     "text": [
      "[('a', 'k', 'a', 's'), ('a', 'k', 'a', 'h'), ('a', 'k', 's', 'a'), ('a', 'k', 's', 'h'), ('a', 'k', 'h', 'a'), ('a', 'k', 'h', 's'), ('a', 'a', 'k', 's'), ('a', 'a', 'k', 'h'), ('a', 'a', 's', 'k'), ('a', 'a', 's', 'h'), ('a', 'a', 'h', 'k'), ('a', 'a', 'h', 's'), ('a', 's', 'k', 'a'), ('a', 's', 'k', 'h'), ('a', 's', 'a', 'k'), ('a', 's', 'a', 'h'), ('a', 's', 'h', 'k'), ('a', 's', 'h', 'a'), ('a', 'h', 'k', 'a'), ('a', 'h', 'k', 's'), ('a', 'h', 'a', 'k'), ('a', 'h', 'a', 's'), ('a', 'h', 's', 'k'), ('a', 'h', 's', 'a'), ('k', 'a', 'a', 's'), ('k', 'a', 'a', 'h'), ('k', 'a', 's', 'a'), ('k', 'a', 's', 'h'), ('k', 'a', 'h', 'a'), ('k', 'a', 'h', 's'), ('k', 'a', 'a', 's'), ('k', 'a', 'a', 'h'), ('k', 'a', 's', 'a'), ('k', 'a', 's', 'h'), ('k', 'a', 'h', 'a'), ('k', 'a', 'h', 's'), ('k', 's', 'a', 'a'), ('k', 's', 'a', 'h'), ('k', 's', 'a', 'a'), ('k', 's', 'a', 'h'), ('k', 's', 'h', 'a'), ('k', 's', 'h', 'a'), ('k', 'h', 'a', 'a'), ('k', 'h', 'a', 's'), ('k', 'h', 'a', 'a'), ('k', 'h', 'a', 's'), ('k', 'h', 's', 'a'), ('k', 'h', 's', 'a'), ('a', 'a', 'k', 's'), ('a', 'a', 'k', 'h'), ('a', 'a', 's', 'k'), ('a', 'a', 's', 'h'), ('a', 'a', 'h', 'k'), ('a', 'a', 'h', 's'), ('a', 'k', 'a', 's'), ('a', 'k', 'a', 'h'), ('a', 'k', 's', 'a'), ('a', 'k', 's', 'h'), ('a', 'k', 'h', 'a'), ('a', 'k', 'h', 's'), ('a', 's', 'a', 'k'), ('a', 's', 'a', 'h'), ('a', 's', 'k', 'a'), ('a', 's', 'k', 'h'), ('a', 's', 'h', 'a'), ('a', 's', 'h', 'k'), ('a', 'h', 'a', 'k'), ('a', 'h', 'a', 's'), ('a', 'h', 'k', 'a'), ('a', 'h', 'k', 's'), ('a', 'h', 's', 'a'), ('a', 'h', 's', 'k'), ('s', 'a', 'k', 'a'), ('s', 'a', 'k', 'h'), ('s', 'a', 'a', 'k'), ('s', 'a', 'a', 'h'), ('s', 'a', 'h', 'k'), ('s', 'a', 'h', 'a'), ('s', 'k', 'a', 'a'), ('s', 'k', 'a', 'h'), ('s', 'k', 'a', 'a'), ('s', 'k', 'a', 'h'), ('s', 'k', 'h', 'a'), ('s', 'k', 'h', 'a'), ('s', 'a', 'a', 'k'), ('s', 'a', 'a', 'h'), ('s', 'a', 'k', 'a'), ('s', 'a', 'k', 'h'), ('s', 'a', 'h', 'a'), ('s', 'a', 'h', 'k'), ('s', 'h', 'a', 'k'), ('s', 'h', 'a', 'a'), ('s', 'h', 'k', 'a'), ('s', 'h', 'k', 'a'), ('s', 'h', 'a', 'a'), ('s', 'h', 'a', 'k'), ('h', 'a', 'k', 'a'), ('h', 'a', 'k', 's'), ('h', 'a', 'a', 'k'), ('h', 'a', 'a', 's'), ('h', 'a', 's', 'k'), ('h', 'a', 's', 'a'), ('h', 'k', 'a', 'a'), ('h', 'k', 'a', 's'), ('h', 'k', 'a', 'a'), ('h', 'k', 'a', 's'), ('h', 'k', 's', 'a'), ('h', 'k', 's', 'a'), ('h', 'a', 'a', 'k'), ('h', 'a', 'a', 's'), ('h', 'a', 'k', 'a'), ('h', 'a', 'k', 's'), ('h', 'a', 's', 'a'), ('h', 'a', 's', 'k'), ('h', 's', 'a', 'k'), ('h', 's', 'a', 'a'), ('h', 's', 'k', 'a'), ('h', 's', 'k', 'a'), ('h', 's', 'a', 'a'), ('h', 's', 'a', 'k')]\n"
     ]
    }
   ],
   "source": [
    "from itertools import permutations\n",
    "le='akash'\n",
    "print(list(permutations('akash',4)))"
   ]
  },
  {
   "cell_type": "code",
   "execution_count": 8,
   "id": "4430f139",
   "metadata": {},
   "outputs": [
    {
     "name": "stdout",
     "output_type": "stream",
     "text": [
      "['akash', 'akash', 'akash', 'akash', 'akash']\n"
     ]
    }
   ],
   "source": [
    "from itertools import repeat\n",
    "le='akash'\n",
    "print(list(repeat('akash',5)))"
   ]
  },
  {
   "cell_type": "code",
   "execution_count": 4,
   "id": "fd5048dc",
   "metadata": {},
   "outputs": [
    {
     "name": "stdout",
     "output_type": "stream",
     "text": [
      "arya\n",
      "23\n"
     ]
    }
   ],
   "source": [
    "#class\n",
    "class Student:\n",
    "    def fun(self,name,age):\n",
    "        self.name1=name\n",
    "        self.age1=age\n",
    "s1=Student()\n",
    "s1.fun('arya',23)\n",
    "print(s1.name1,)\n",
    "print(s1.age1)"
   ]
  },
  {
   "cell_type": "code",
   "execution_count": 5,
   "id": "aa93ae18",
   "metadata": {},
   "outputs": [
    {
     "name": "stdout",
     "output_type": "stream",
     "text": [
      "5\n"
     ]
    }
   ],
   "source": [
    "class Hello:\n",
    "    x=5\n",
    "np=Hello()\n",
    "print(np.x)"
   ]
  },
  {
   "cell_type": "code",
   "execution_count": 10,
   "id": "2b9cc946",
   "metadata": {},
   "outputs": [
    {
     "name": "stdout",
     "output_type": "stream",
     "text": [
      "manu\n",
      "21\n"
     ]
    }
   ],
   "source": [
    "#init funtion\n",
    "class Student:\n",
    "    def __init__(self,name,age):\n",
    "        self.name1=name\n",
    "        self.age1=age\n",
    "s1=Student('manu',21)\n",
    "print(s1.name1)\n",
    "print(s1.age1)\n",
    "def display():\n",
    "    print('name is:',s1.name1)\n",
    "    print('age is:',s1.age1)"
   ]
  },
  {
   "cell_type": "code",
   "execution_count": null,
   "id": "9e04d056",
   "metadata": {},
   "outputs": [],
   "source": [
    "class Student:\n",
    "    def __init__(self,name,age):\n",
    "        self.name1=name\n",
    "        self.age1=age\n",
    "    def display(self)\n",
    "    "
   ]
  },
  {
   "cell_type": "code",
   "execution_count": 3,
   "id": "4398d2e6",
   "metadata": {},
   "outputs": [
    {
     "name": "stdout",
     "output_type": "stream",
     "text": [
      "alto red 1980 maruthi\n",
      "name is alto\n",
      "colour is red\n",
      "year is 1980\n"
     ]
    }
   ],
   "source": [
    "#inheritance\n",
    "class Vehicle:\n",
    "    def __init__(self,name,colour,year):\n",
    "        self.name=name\n",
    "        self.colour=colour\n",
    "        self.year=year\n",
    "    def display(self):\n",
    "        print('name is',self.name)\n",
    "        print('colour is',self.colour)\n",
    "        print('year is',self.year)\n",
    "class car(Vehicle):\n",
    "    def __init__(self,name,colour,year,brand):\n",
    "        Vehicle.__init__(self,name=name,colour=colour,year=year)\n",
    "        self.brand=brand\n",
    "   # def display(self):\n",
    "        print(self.name,self.colour,self.year,self.brand)\n",
    "c1=car('alto','red',1980,'maruthi')\n",
    "c1.display()\n",
    "    "
   ]
  },
  {
   "cell_type": "code",
   "execution_count": 16,
   "id": "f5db05a2",
   "metadata": {},
   "outputs": [
    {
     "name": "stdout",
     "output_type": "stream",
     "text": [
      "pottatto orange root type\n"
     ]
    }
   ],
   "source": [
    "class Vegitable:\n",
    "    def __init__(self,name,colour):\n",
    "        self.name=name\n",
    "        self.colour=colour\n",
    "    def display(self):\n",
    "        print('name is',self.name)\n",
    "        print('colour is',self.colour)\n",
    "class Carrot(Vegitable):\n",
    "    def __init__(self,name,colour,typ):\n",
    "        super().__init__(name,colour)\n",
    "        self.typ=typ\n",
    "    def display (self):\n",
    "        print(self.name,self.colour,self.typ)\n",
    "a1=Carrot('pottatto',\"orange\",\"root type\")\n",
    "a1.display()"
   ]
  },
  {
   "cell_type": "code",
   "execution_count": 15,
   "id": "bd1c7cde",
   "metadata": {},
   "outputs": [
    {
     "name": "stdout",
     "output_type": "stream",
     "text": [
      "{'firstname': 'shahala', 'lastname': 'sherin'}\n"
     ]
    }
   ],
   "source": [
    "class Name:\n",
    "    def __init__(self,fname,lname):\n",
    "        self.firstname=fname\n",
    "        self.lastname=lname\n",
    "    def printname(self):\n",
    "        return (self.firstname,self.lastname)\n",
    "x=Name('shahala','sherin')\n",
    "print(x.__dict__)"
   ]
  },
  {
   "cell_type": "code",
   "execution_count": 12,
   "id": "6c9e5f2c",
   "metadata": {},
   "outputs": [
    {
     "name": "stdout",
     "output_type": "stream",
     "text": [
      "new delhi is the capital of india\n"
     ]
    },
    {
     "ename": "TypeError",
     "evalue": "typee() takes 0 positional arguments but 1 was given",
     "output_type": "error",
     "traceback": [
      "\u001b[1;31m---------------------------------------------------------------------------\u001b[0m",
      "\u001b[1;31mTypeError\u001b[0m                                 Traceback (most recent call last)",
      "\u001b[1;32m~\\AppData\\Local\\Temp\\ipykernel_6448\\2824660151.py\u001b[0m in \u001b[0;36m<module>\u001b[1;34m\u001b[0m\n\u001b[0;32m     17\u001b[0m \u001b[1;32mfor\u001b[0m \u001b[0mcountry\u001b[0m \u001b[1;32min\u001b[0m \u001b[1;33m(\u001b[0m\u001b[0mobj_india\u001b[0m\u001b[1;33m,\u001b[0m\u001b[0mobj_usa\u001b[0m\u001b[1;33m)\u001b[0m\u001b[1;33m:\u001b[0m\u001b[1;33m\u001b[0m\u001b[1;33m\u001b[0m\u001b[0m\n\u001b[0;32m     18\u001b[0m     \u001b[0mcountry\u001b[0m\u001b[1;33m.\u001b[0m\u001b[0mcapital\u001b[0m\u001b[1;33m(\u001b[0m\u001b[1;33m)\u001b[0m\u001b[1;33m\u001b[0m\u001b[1;33m\u001b[0m\u001b[0m\n\u001b[1;32m---> 19\u001b[1;33m     \u001b[0mcountry\u001b[0m\u001b[1;33m.\u001b[0m\u001b[0mtypee\u001b[0m\u001b[1;33m(\u001b[0m\u001b[1;33m)\u001b[0m\u001b[1;33m\u001b[0m\u001b[1;33m\u001b[0m\u001b[0m\n\u001b[0m\u001b[0;32m     20\u001b[0m \u001b[1;33m\u001b[0m\u001b[0m\n\u001b[0;32m     21\u001b[0m \u001b[1;33m\u001b[0m\u001b[0m\n",
      "\u001b[1;31mTypeError\u001b[0m: typee() takes 0 positional arguments but 1 was given"
     ]
    }
   ],
   "source": [
    "class India():\n",
    "    def capital(self):\n",
    "        print('new delhi is the capital of india')\n",
    "    def language(self):\n",
    "        print('hindhi is widely spoken language of india')\n",
    "    def typee():\n",
    "        print('india is a developing country')\n",
    "class Usa():\n",
    "    def capital(self):\n",
    "        print('washington,dc is capital of usa')\n",
    "    def language(self):\n",
    "        print('english is the primary language')\n",
    "    def typee():\n",
    "        print('usa is developed country')\n",
    "obj_india=India()\n",
    "obj_usa=Usa()\n",
    "for country in (obj_india,obj_usa):\n",
    "    country.capital()\n",
    "    country.typee()\n",
    "        \n",
    "    "
   ]
  },
  {
   "cell_type": "code",
   "execution_count": 13,
   "id": "59c2077b",
   "metadata": {},
   "outputs": [
    {
     "name": "stdout",
     "output_type": "stream",
     "text": [
      "new delhi is the capital of india\n",
      "india is a developing country\n",
      "washington,dc is capital of usa\n",
      "usa is developed country\n"
     ]
    }
   ],
   "source": [
    "class India():\n",
    "    def capital(self):\n",
    "        print('new delhi is the capital of india')\n",
    "    def language(self):\n",
    "        print('hindhi is widely spoken language of india')\n",
    "    def typee(self):\n",
    "        print('india is a developing country')\n",
    "class Usa():\n",
    "    def capital(self):\n",
    "        print('washington,dc is capital of usa')\n",
    "    def language(self):\n",
    "        print('english is the primary language')\n",
    "    def typee(self):\n",
    "        print('usa is developed country')\n",
    "obj_india=India()\n",
    "obj_usa=Usa()\n",
    "for country in (obj_india,obj_usa):\n",
    "    country.capital()\n",
    "    country.typee()\n",
    "        "
   ]
  },
  {
   "cell_type": "code",
   "execution_count": null,
   "id": "19a1b69d",
   "metadata": {},
   "outputs": [],
   "source": [
    "#super() command thanne aanu\n",
    "class Student(person):\n",
    "    def __init__(self,fname,lname):\n",
    "        super().__init__(fname,lname)\n",
    "        self.graduationyear=year\n",
    "        "
   ]
  },
  {
   "cell_type": "code",
   "execution_count": 17,
   "id": "e81dcfde",
   "metadata": {},
   "outputs": [
    {
     "name": "stdout",
     "output_type": "stream",
     "text": [
      "in Class3\n",
      "None\n"
     ]
    }
   ],
   "source": [
    "class Class1:\n",
    "    def m(self):\n",
    "        print('in Class1')\n",
    "class Class2(Class1):\n",
    "    def m(self):\n",
    "        print('in Class2')\n",
    "        super().m()\n",
    "class Class3(Class1):\n",
    "    def m(self):\n",
    "        print('in Class3')\n",
    "class Class4(Class3,Class2):\n",
    "    pass\n",
    "obj=Class4()\n",
    "print(obj.m())\n",
    "    "
   ]
  },
  {
   "cell_type": "code",
   "execution_count": 17,
   "id": "52ea692a",
   "metadata": {},
   "outputs": [
    {
     "name": "stdout",
     "output_type": "stream",
     "text": [
      "enter a number4\n",
      "1 \n",
      "2 2 \n",
      "3 3 3 \n",
      "4 4 4 4 \n",
      "5 5 5 5 5 \n"
     ]
    }
   ],
   "source": [
    "a=int(input('enter a number'))\n",
    "for i in range(a+1):\n",
    "    for j in range(i+1):\n",
    "        print(i+1,end=' ')\n",
    "    print()"
   ]
  },
  {
   "cell_type": "code",
   "execution_count": null,
   "id": "75e2886c",
   "metadata": {},
   "outputs": [],
   "source": []
  }
 ],
 "metadata": {
  "kernelspec": {
   "display_name": "Python 3 (ipykernel)",
   "language": "python",
   "name": "python3"
  },
  "language_info": {
   "codemirror_mode": {
    "name": "ipython",
    "version": 3
   },
   "file_extension": ".py",
   "mimetype": "text/x-python",
   "name": "python",
   "nbconvert_exporter": "python",
   "pygments_lexer": "ipython3",
   "version": "3.9.13"
  }
 },
 "nbformat": 4,
 "nbformat_minor": 5
}
