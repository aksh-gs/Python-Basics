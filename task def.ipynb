{
 "cells": [
  {
   "cell_type": "code",
   "execution_count": 1,
   "id": "8f8bfc73",
   "metadata": {},
   "outputs": [
    {
     "name": "stdout",
     "output_type": "stream",
     "text": [
      "enter a nameakash\n",
      "enter a nameanooj\n",
      "5\n",
      "5\n"
     ]
    }
   ],
   "source": [
    "def mydef(str1,str2):\n",
    "    a=len(str1)\n",
    "    b=len(str2)\n",
    "    if a>b:\n",
    "        print(a)\n",
    "    elif a<b:\n",
    "        print(b)\n",
    "    else:\n",
    "        print(a)\n",
    "        print(b)\n",
    "str1=input('enter a name')\n",
    "str2=input('enter a name')\n",
    "mydef(str1,str2)"
   ]
  },
  {
   "cell_type": "code",
   "execution_count": 2,
   "id": "a535f109",
   "metadata": {},
   "outputs": [
    {
     "name": "stdout",
     "output_type": "stream",
     "text": [
      "enter a number4\n",
      "number is even\n"
     ]
    }
   ],
   "source": [
    "def newdef(int1):\n",
    "    a=int1\n",
    "    if a%2==0:\n",
    "        print('number is even')\n",
    "    else:\n",
    "        print('number is odd')\n",
    "int1=int(input('enter a number')) \n",
    "newdef(int1)"
   ]
  },
  {
   "cell_type": "code",
   "execution_count": 3,
   "id": "9945ebf0",
   "metadata": {},
   "outputs": [
    {
     "name": "stdout",
     "output_type": "stream",
     "text": [
      "{1: 1, 2: 4, 3: 9}\n"
     ]
    }
   ],
   "source": [
    "def di():\n",
    "    a={}\n",
    "    a[1]=1**2\n",
    "    a[2]=2*2\n",
    "    a[3]=3*3\n",
    "    print(a)\n",
    "di()"
   ]
  },
  {
   "cell_type": "code",
   "execution_count": 10,
   "id": "3422872d",
   "metadata": {},
   "outputs": [
    {
     "name": "stdout",
     "output_type": "stream",
     "text": [
      "{1: 1, 2: 4, 3: 9, 4: 16, 5: 25, 6: 36, 7: 49, 8: 64, 9: 81, 10: 100, 11: 121, 12: 144, 13: 169, 14: 196, 15: 225, 16: 256, 17: 289, 18: 324, 19: 361, 20: 400}\n"
     ]
    }
   ],
   "source": [
    "def mydict():\n",
    "    a={}\n",
    "    \n",
    "    for i in range(1,21):\n",
    "        a[i]=i**2\n",
    "    print(a)\n",
    "mydict()"
   ]
  },
  {
   "cell_type": "code",
   "execution_count": 29,
   "id": "f95b94cf",
   "metadata": {},
   "outputs": [
    {
     "name": "stdout",
     "output_type": "stream",
     "text": [
      "dict_values([1, 4, 9, 16, 25, 36, 49, 64, 81, 100, 121, 144, 169, 196, 225, 256, 289, 324, 361, 400])\n",
      "dict_items([(1, 1), (2, 4), (3, 9), (4, 16), (5, 25), (6, 36), (7, 49), (8, 64), (9, 81), (10, 100), (11, 121), (12, 144), (13, 169), (14, 196), (15, 225), (16, 256), (17, 289), (18, 324), (19, 361), (20, 400)])\n"
     ]
    }
   ],
   "source": [
    "def mydict():\n",
    "    a={}\n",
    "    for i in range(1,21):\n",
    "        a[i]=i**2\n",
    "    print(a.values())\n",
    "    print(a.items())\n",
    "mydict()\n"
   ]
  },
  {
   "cell_type": "code",
   "execution_count": 27,
   "id": "e418bc00",
   "metadata": {},
   "outputs": [
    {
     "name": "stdout",
     "output_type": "stream",
     "text": [
      "dict_keys([1, 2, 3, 4, 5, 6, 7, 8, 9, 10, 11, 12, 13, 14, 15, 16, 17, 18, 19, 20])\n"
     ]
    }
   ],
   "source": [
    "def mydict():\n",
    "    a={}\n",
    "    for i in range(1,21):\n",
    "        a[i]=i**2\n",
    "    print(a.keys())\n",
    "mydict()"
   ]
  },
  {
   "cell_type": "code",
   "execution_count": 43,
   "id": "ae9b182e",
   "metadata": {},
   "outputs": [
    {
     "name": "stdout",
     "output_type": "stream",
     "text": [
      "[1, 4, 9, 16, 25, 36, 49, 64, 81, 100, 121, 144, 169, 196, 225, 256, 289, 324, 361, 400]\n"
     ]
    }
   ],
   "source": [
    "def mylist():\n",
    "    lis=[]\n",
    "    for i in range(1,21):\n",
    "        i=i**2\n",
    "        lis.append(i)\n",
    "    print(lis)\n",
    "mylist()"
   ]
  },
  {
   "cell_type": "code",
   "execution_count": 15,
   "id": "f953b75b",
   "metadata": {},
   "outputs": [
    {
     "name": "stdout",
     "output_type": "stream",
     "text": [
      "[225, 256, 289, 324, 361]\n"
     ]
    }
   ],
   "source": [
    "def mylist():\n",
    "    li=[]\n",
    "    for i in range(1,21):\n",
    "        i=i**2\n",
    "        li.append(i)\n",
    "    print(li[-6:-1])\n",
    "mylist()\n",
    "    \n",
    "    \n"
   ]
  },
  {
   "cell_type": "code",
   "execution_count": 16,
   "id": "eff84491",
   "metadata": {},
   "outputs": [
    {
     "name": "stdout",
     "output_type": "stream",
     "text": [
      "[49, 64, 81, 100, 121, 144, 169, 196, 225, 256, 289, 324, 361, 400]\n"
     ]
    }
   ],
   "source": [
    "def mylist():\n",
    "    li=[]\n",
    "    for i in range(1,21):\n",
    "        i=i**2\n",
    "        li.append(i)\n",
    "    print(li[6::])\n",
    "mylist()\n",
    "    "
   ]
  },
  {
   "cell_type": "code",
   "execution_count": 21,
   "id": "86f58d5d",
   "metadata": {},
   "outputs": [
    {
     "name": "stdout",
     "output_type": "stream",
     "text": [
      "(1, 4, 9, 16, 25, 36, 49, 64, 81, 100, 121, 144, 169, 196, 225, 256, 289, 324, 361, 400)\n"
     ]
    }
   ],
   "source": [
    "def mytuple():\n",
    "    tup=[]\n",
    "    for i in range(1,21):\n",
    "        i=i**2\n",
    "        tup.append(i)\n",
    "    print(tuple(tup))\n",
    "mytuple()\n",
    "    "
   ]
  },
  {
   "cell_type": "code",
   "execution_count": null,
   "id": "8a39a211",
   "metadata": {},
   "outputs": [],
   "source": []
  }
 ],
 "metadata": {
  "kernelspec": {
   "display_name": "Python 3 (ipykernel)",
   "language": "python",
   "name": "python3"
  },
  "language_info": {
   "codemirror_mode": {
    "name": "ipython",
    "version": 3
   },
   "file_extension": ".py",
   "mimetype": "text/x-python",
   "name": "python",
   "nbconvert_exporter": "python",
   "pygments_lexer": "ipython3",
   "version": "3.9.13"
  }
 },
 "nbformat": 4,
 "nbformat_minor": 5
}
