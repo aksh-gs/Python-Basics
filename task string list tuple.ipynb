{
 "cells": [
  {
   "cell_type": "code",
   "execution_count": 1,
   "id": "05d0341f",
   "metadata": {},
   "outputs": [
    {
     "name": "stdout",
     "output_type": "stream",
     "text": [
      "10\n"
     ]
    }
   ],
   "source": [
    "a='hellowrold'\n",
    "print(len(a))"
   ]
  },
  {
   "cell_type": "code",
   "execution_count": 2,
   "id": "da679cc1",
   "metadata": {},
   "outputs": [
    {
     "data": {
      "text/plain": [
       "3"
      ]
     },
     "execution_count": 2,
     "metadata": {},
     "output_type": "execute_result"
    }
   ],
   "source": [
    "b='data data data world'\n",
    "b.count('data')"
   ]
  },
  {
   "cell_type": "code",
   "execution_count": 9,
   "id": "a6195e83",
   "metadata": {},
   "outputs": [
    {
     "name": "stdout",
     "output_type": "stream",
     "text": [
      "enter a nameakash\n",
      "AKASH\n",
      "akash\n"
     ]
    }
   ],
   "source": [
    "x=str(input('enter a name'))\n",
    "print(x.upper())\n",
    "print(x.lower())"
   ]
  },
  {
   "cell_type": "code",
   "execution_count": 12,
   "id": "16971d7c",
   "metadata": {},
   "outputs": [
    {
     "name": "stdout",
     "output_type": "stream",
     "text": [
      "(1, 2, 3, 4)\n"
     ]
    }
   ],
   "source": [
    "h=(1,2,3,4)\n",
    "print(h)"
   ]
  },
  {
   "cell_type": "code",
   "execution_count": 13,
   "id": "07cec968",
   "metadata": {},
   "outputs": [
    {
     "name": "stdout",
     "output_type": "stream",
     "text": [
      "(1, 2, 3, 'tuple', 3.5)\n"
     ]
    }
   ],
   "source": [
    "tup=(1,2,3,'tuple',3.5)\n",
    "print(tup)"
   ]
  },
  {
   "cell_type": "code",
   "execution_count": 14,
   "id": "812ef124",
   "metadata": {},
   "outputs": [
    {
     "name": "stdout",
     "output_type": "stream",
     "text": [
      "3\n"
     ]
    }
   ],
   "source": [
    "e=(1,2,3,4,5)\n",
    "print(e[2])"
   ]
  },
  {
   "cell_type": "code",
   "execution_count": 16,
   "id": "54344c92",
   "metadata": {},
   "outputs": [
    {
     "name": "stdout",
     "output_type": "stream",
     "text": [
      "(6, 2, 3, 4, 5)\n"
     ]
    }
   ],
   "source": [
    "a=(1,2,3,4,5)\n",
    "b,c,d,e,f=a\n",
    "b=6\n",
    "a=(b,c,d,e,f)\n",
    "print(a)"
   ]
  },
  {
   "cell_type": "code",
   "execution_count": 18,
   "id": "6f17d8fb",
   "metadata": {},
   "outputs": [
    {
     "name": "stdout",
     "output_type": "stream",
     "text": [
      "(5, 4, 3, 2, 1)\n"
     ]
    }
   ],
   "source": [
    "f=(1,2,3,4,5)\n",
    "print(f[::-1])"
   ]
  },
  {
   "cell_type": "code",
   "execution_count": 21,
   "id": "b96ee665",
   "metadata": {},
   "outputs": [
    {
     "name": "stdout",
     "output_type": "stream",
     "text": [
      "15\n"
     ]
    }
   ],
   "source": [
    "li=[1,2,3,4,5]\n",
    "lis=sum(li)\n",
    "print(lis)"
   ]
  },
  {
   "cell_type": "code",
   "execution_count": 23,
   "id": "1bf7cd0c",
   "metadata": {},
   "outputs": [
    {
     "name": "stdout",
     "output_type": "stream",
     "text": [
      "5\n"
     ]
    }
   ],
   "source": [
    "li=[1,2,3,4,5]\n",
    "l=max(li)\n",
    "print(l)"
   ]
  },
  {
   "cell_type": "code",
   "execution_count": 24,
   "id": "f7c04e70",
   "metadata": {},
   "outputs": [
    {
     "name": "stdout",
     "output_type": "stream",
     "text": [
      "1\n"
     ]
    }
   ],
   "source": [
    "li=[1,2,3,4,5]\n",
    "l=min(li)\n",
    "print(l)"
   ]
  },
  {
   "cell_type": "code",
   "execution_count": 25,
   "id": "8eaf3701",
   "metadata": {},
   "outputs": [
    {
     "name": "stdout",
     "output_type": "stream",
     "text": [
      "[9, 8, 7, 6, 5]\n"
     ]
    }
   ],
   "source": [
    "n=[9,8,7,6,5]\n",
    "nc=n.copy()\n",
    "print(nc)"
   ]
  },
  {
   "cell_type": "code",
   "execution_count": 29,
   "id": "c7f633b3",
   "metadata": {},
   "outputs": [
    {
     "data": {
      "text/plain": [
       "2"
      ]
     },
     "execution_count": 29,
     "metadata": {},
     "output_type": "execute_result"
    }
   ],
   "source": [
    "new=[1,2,3,4,5,6]\n",
    "new.index(3)"
   ]
  },
  {
   "cell_type": "code",
   "execution_count": 30,
   "id": "1355d1d2",
   "metadata": {},
   "outputs": [
    {
     "name": "stdout",
     "output_type": "stream",
     "text": [
      "[1, 2, 3, 4, [4, 5, 6, 7]]\n"
     ]
    }
   ],
   "source": [
    "a=[1,2,3,4]\n",
    "b=[4,5,6,7]\n",
    "a.append(b)\n",
    "print(a)"
   ]
  },
  {
   "cell_type": "code",
   "execution_count": 32,
   "id": "377c2b95",
   "metadata": {},
   "outputs": [
    {
     "data": {
      "text/plain": [
       "3"
      ]
     },
     "execution_count": 32,
     "metadata": {},
     "output_type": "execute_result"
    }
   ],
   "source": [
    "a=[1,2,3,4,4,5,4,6]\n",
    "a.count(4)"
   ]
  },
  {
   "cell_type": "code",
   "execution_count": 33,
   "id": "ed4ad2cc",
   "metadata": {},
   "outputs": [
    {
     "name": "stdout",
     "output_type": "stream",
     "text": [
      "[9, 8, 7, 6, 5, 1, 2, 3]\n"
     ]
    }
   ],
   "source": [
    "n=[9,8,7,6,5]\n",
    "n.extend([1,2,3])\n",
    "print(n)"
   ]
  },
  {
   "cell_type": "code",
   "execution_count": 34,
   "id": "88bc674b",
   "metadata": {},
   "outputs": [
    {
     "name": "stdout",
     "output_type": "stream",
     "text": [
      "(1, 2, 3, 4, 5)\n"
     ]
    }
   ],
   "source": [
    "tup=[1,2,3,4,5]\n",
    "t1=tuple(tup)\n",
    "print(t1)"
   ]
  },
  {
   "cell_type": "code",
   "execution_count": 35,
   "id": "2f711411",
   "metadata": {},
   "outputs": [
    {
     "name": "stdout",
     "output_type": "stream",
     "text": [
      "5\n"
     ]
    }
   ],
   "source": [
    "n=[9,8,7,6,5]\n",
    "print(len(n))"
   ]
  },
  {
   "cell_type": "code",
   "execution_count": 1,
   "id": "6f7efcf6",
   "metadata": {},
   "outputs": [
    {
     "name": "stdout",
     "output_type": "stream",
     "text": [
      "6\n"
     ]
    }
   ],
   "source": [
    "a='python'\n",
    "b=len(a)\n",
    "count=0\n",
    "for i in a:\n",
    "    count=count+1\n",
    "print(count)"
   ]
  },
  {
   "cell_type": "code",
   "execution_count": 3,
   "id": "660e784b",
   "metadata": {},
   "outputs": [
    {
     "name": "stdout",
     "output_type": "stream",
     "text": [
      "not empty\n"
     ]
    }
   ],
   "source": [
    "z=[1,3,5,7,9]\n",
    "b=len(a)\n",
    "if b>0:\n",
    "    print('not empty')\n",
    "else:\n",
    "    print('empty')"
   ]
  },
  {
   "cell_type": "code",
   "execution_count": 8,
   "id": "4e3fc4fd",
   "metadata": {},
   "outputs": [
    {
     "name": "stdout",
     "output_type": "stream",
     "text": [
      "{2, 4, 6, 8, 10}\n",
      "[2, 4, 6, 8, 10]\n"
     ]
    }
   ],
   "source": [
    "a=[2,4,2,6,8,10,4,10]\n",
    "b= set(a)\n",
    "print(b)\n",
    "a=list(b)\n",
    "print(a)"
   ]
  },
  {
   "cell_type": "code",
   "execution_count": 10,
   "id": "1738a7a6",
   "metadata": {},
   "outputs": [
    {
     "data": {
      "text/plain": [
       "2"
      ]
     },
     "execution_count": 10,
     "metadata": {},
     "output_type": "execute_result"
    }
   ],
   "source": [
    "s=[1,3,2,6,5,8]\n",
    "s.index(2)"
   ]
  },
  {
   "cell_type": "code",
   "execution_count": 2,
   "id": "6af502a9",
   "metadata": {},
   "outputs": [
    {
     "name": "stdout",
     "output_type": "stream",
     "text": [
      "[1]\n",
      "invalid\n",
      "[1, 3]\n",
      "invalid\n",
      "[1, 3, 5]\n",
      "[1, 3, 5, 67]\n",
      "[1, 3, 5, 67, 7]\n",
      "invalid\n",
      "[1, 3, 5, 67, 7, 9]\n",
      "invalid\n"
     ]
    }
   ],
   "source": [
    "odd=[1,2,3,4,5,67,7,8,9,10]\n",
    "b=[]\n",
    "for i in odd:\n",
    "    if i%2==1:\n",
    "        b.append(i)\n",
    "        print(b)\n",
    "    else:\n",
    "        print('invalid')"
   ]
  },
  {
   "cell_type": "code",
   "execution_count": 14,
   "id": "36bfeed7",
   "metadata": {},
   "outputs": [
    {
     "name": "stdout",
     "output_type": "stream",
     "text": [
      "['p', 'y', 't', 'h', 'o', 'n']\n"
     ]
    }
   ],
   "source": [
    "a='python'\n",
    "print(list(a))"
   ]
  },
  {
   "cell_type": "code",
   "execution_count": 18,
   "id": "a2f1610b",
   "metadata": {},
   "outputs": [
    {
     "name": "stdout",
     "output_type": "stream",
     "text": [
      "[1, 3, 5, 7, 9, 2, 4, 6, 8]\n"
     ]
    }
   ],
   "source": [
    "a=[1,3,5,7,9]\n",
    "b=[2,4,6,8]\n",
    "z=a+b\n",
    "print(z)"
   ]
  },
  {
   "cell_type": "code",
   "execution_count": null,
   "id": "00a25c28",
   "metadata": {},
   "outputs": [],
   "source": []
  }
 ],
 "metadata": {
  "kernelspec": {
   "display_name": "Python 3 (ipykernel)",
   "language": "python",
   "name": "python3"
  },
  "language_info": {
   "codemirror_mode": {
    "name": "ipython",
    "version": 3
   },
   "file_extension": ".py",
   "mimetype": "text/x-python",
   "name": "python",
   "nbconvert_exporter": "python",
   "pygments_lexer": "ipython3",
   "version": "3.9.13"
  }
 },
 "nbformat": 4,
 "nbformat_minor": 5
}
