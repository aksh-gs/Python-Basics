{
 "cells": [
  {
   "cell_type": "code",
   "execution_count": 9,
   "id": "6aae70ba",
   "metadata": {},
   "outputs": [
    {
     "name": "stdout",
     "output_type": "stream",
     "text": [
      "enter a number1\n",
      "enter second number2\n",
      "enter third number10\n",
      "10\n"
     ]
    }
   ],
   "source": [
    "a=int(input('enter a number'))\n",
    "b=int(input('enter second number'))\n",
    "c=int(input('enter third number'))\n",
    "if a>b:\n",
    "    print(a)\n",
    "elif b>c:\n",
    "    print(b)\n",
    "elif a>c:\n",
    "    print(a)\n",
    "elif c>a:\n",
    "    print(c)"
   ]
  },
  {
   "cell_type": "code",
   "execution_count": 7,
   "id": "2c8ebb8b",
   "metadata": {},
   "outputs": [
    {
     "name": "stdout",
     "output_type": "stream",
     "text": [
      "1\n",
      "2\n",
      "3\n",
      "4\n",
      "5\n",
      "6\n",
      "7\n",
      "8\n",
      "9\n",
      "10\n"
     ]
    }
   ],
   "source": [
    "\n",
    "for i in range(1,11):\n",
    "    print(i)"
   ]
  },
  {
   "cell_type": "code",
   "execution_count": 3,
   "id": "e300fd4c",
   "metadata": {},
   "outputs": [
    {
     "name": "stdout",
     "output_type": "stream",
     "text": [
      "enter first number2\n",
      "enter second number1\n",
      "enter third number4\n",
      "2\n"
     ]
    }
   ],
   "source": [
    "a=int(input('enter first number'))\n",
    "b=int(input('enter second number'))\n",
    "c= int(input('enter third number'))\n",
    "if a<b:\n",
    "    print(a)\n",
    "elif a<c:\n",
    "    print(a)\n",
    "elif b<a:\n",
    "    print(b)\n",
    "elif b<c:\n",
    "    print(b)\n",
    "elif c<a:\n",
    "    print(c)\n",
    "elif c<b:\n",
    "    print(c)\n",
    "        "
   ]
  },
  {
   "cell_type": "code",
   "execution_count": 2,
   "id": "1b3e71e5",
   "metadata": {},
   "outputs": [
    {
     "name": "stdout",
     "output_type": "stream",
     "text": [
      "2\n",
      "4\n",
      "6\n",
      "8\n",
      "10\n",
      "12\n",
      "14\n",
      "16\n",
      "18\n",
      "20\n",
      "22\n",
      "24\n",
      "26\n",
      "28\n",
      "30\n",
      "32\n",
      "34\n",
      "36\n",
      "38\n",
      "40\n",
      "42\n",
      "44\n",
      "46\n",
      "48\n",
      "50\n"
     ]
    }
   ],
   "source": [
    "b=[]\n",
    "for i in range(1,51):\n",
    "    if i%2==0:\n",
    "        b.append(i)\n",
    "        print(i)"
   ]
  },
  {
   "cell_type": "code",
   "execution_count": 21,
   "id": "51a967ab",
   "metadata": {},
   "outputs": [
    {
     "name": "stdout",
     "output_type": "stream",
     "text": [
      "1\n",
      "3\n",
      "5\n",
      "7\n",
      "9\n",
      "11\n",
      "13\n",
      "15\n",
      "17\n",
      "19\n",
      "21\n",
      "23\n",
      "25\n",
      "27\n",
      "29\n",
      "31\n",
      "33\n",
      "35\n",
      "37\n",
      "39\n",
      "41\n",
      "43\n",
      "45\n",
      "47\n",
      "49\n"
     ]
    }
   ],
   "source": [
    "a=[]\n",
    "for i in range(1,51):\n",
    "    if i%2!=0:\n",
    "        a.append(i)\n",
    "        print(i)"
   ]
  },
  {
   "cell_type": "code",
   "execution_count": 23,
   "id": "b65c0045",
   "metadata": {},
   "outputs": [
    {
     "name": "stdout",
     "output_type": "stream",
     "text": [
      "enter a characterf\n",
      "the ascii valuefis 102\n"
     ]
    }
   ],
   "source": [
    "k=input('enter a character')\n",
    "print('the ascii value'+k+'is',ord(k))"
   ]
  },
  {
   "cell_type": "code",
   "execution_count": 3,
   "id": "28d32dd8",
   "metadata": {},
   "outputs": [
    {
     "name": "stdout",
     "output_type": "stream",
     "text": [
      "enter a numberaksh\n",
      "4\n"
     ]
    }
   ],
   "source": [
    "string=input('enter a number')\n",
    "al=0\n",
    "for i in string:\n",
    "    i.isalpha()\n",
    "    al=al+1\n",
    "print(al)"
   ]
  },
  {
   "cell_type": "code",
   "execution_count": 5,
   "id": "7c818fa5",
   "metadata": {},
   "outputs": [
    {
     "name": "stdout",
     "output_type": "stream",
     "text": [
      "array is : [1, 2, 3, 4, 5, 6, 7, 8]\n"
     ]
    }
   ],
   "source": [
    "array=[1,2,3,4,5,6,7,8]\n",
    "print('array is :',array)"
   ]
  },
  {
   "cell_type": "code",
   "execution_count": 7,
   "id": "1b221ee9",
   "metadata": {},
   "outputs": [
    {
     "name": "stdout",
     "output_type": "stream",
     "text": [
      "[3, 6, 9, 12, 15]\n"
     ]
    }
   ],
   "source": [
    "a=[1,2,3,4,5,6,7,8]\n",
    "b=[2,4,6,8,10]\n",
    "li=zip(a,b)\n",
    "sum=[a+b for (a,b) in li]\n",
    "print(sum)"
   ]
  },
  {
   "cell_type": "code",
   "execution_count": 6,
   "id": "39f2d115",
   "metadata": {},
   "outputs": [
    {
     "name": "stdout",
     "output_type": "stream",
     "text": [
      "2\n",
      "4\n",
      "6\n",
      "8\n",
      "10\n",
      "12\n",
      "14\n",
      "16\n",
      "18\n",
      "20\n",
      "sum of even number 110\n"
     ]
    }
   ],
   "source": [
    "a=[]\n",
    "sum=0\n",
    "for i in range(1,21):\n",
    "    if i%2==0:\n",
    "        a.append(i)\n",
    "        print(i)\n",
    "        sum=sum+i\n",
    "print('sum of even number',sum)"
   ]
  },
  {
   "cell_type": "code",
   "execution_count": null,
   "id": "9ba5a6c4",
   "metadata": {},
   "outputs": [],
   "source": []
  }
 ],
 "metadata": {
  "kernelspec": {
   "display_name": "Python 3 (ipykernel)",
   "language": "python",
   "name": "python3"
  },
  "language_info": {
   "codemirror_mode": {
    "name": "ipython",
    "version": 3
   },
   "file_extension": ".py",
   "mimetype": "text/x-python",
   "name": "python",
   "nbconvert_exporter": "python",
   "pygments_lexer": "ipython3",
   "version": "3.9.13"
  }
 },
 "nbformat": 4,
 "nbformat_minor": 5
}
