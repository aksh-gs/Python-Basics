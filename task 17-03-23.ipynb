{
 "cells": [
  {
   "cell_type": "markdown",
   "id": "f76e542b",
   "metadata": {},
   "source": [
    "- Program to Find Numbers Divisible by Another Number"
   ]
  },
  {
   "cell_type": "code",
   "execution_count": 2,
   "id": "f8423182",
   "metadata": {},
   "outputs": [
    {
     "name": "stdout",
     "output_type": "stream",
     "text": [
      "[4, 8, 12, 16, 20]\n"
     ]
    }
   ],
   "source": [
    "a=[*range(1,21)]\n",
    "n=list(filter(lambda x:x%4==0,a))\n",
    "print(n)\n",
    "    \n"
   ]
  },
  {
   "cell_type": "markdown",
   "id": "58acb081",
   "metadata": {},
   "source": [
    "- program that prints the squares of numbers in a given list"
   ]
  },
  {
   "cell_type": "code",
   "execution_count": 3,
   "id": "a9f89f46",
   "metadata": {},
   "outputs": [
    {
     "name": "stdout",
     "output_type": "stream",
     "text": [
      "[4, 16, 36, 64, 100, 144, 196, 256, 324, 400]\n"
     ]
    }
   ],
   "source": [
    "b=[*range(2,21,2)]\n",
    "n=list(map(lambda x:x**2,b))\n",
    "print(n)"
   ]
  },
  {
   "cell_type": "markdown",
   "id": "94d8bf9e",
   "metadata": {},
   "source": [
    "- Create a function showEmployee() in such a way that it should accept employee name, and its salary and display both. If the salary is missing in the function call assign default value 9000 to salary"
   ]
  },
  {
   "cell_type": "code",
   "execution_count": 5,
   "id": "cd3930f0",
   "metadata": {},
   "outputs": [
    {
     "name": "stdout",
     "output_type": "stream",
     "text": [
      "enter nameakas\n",
      "akas\n",
      "10000\n",
      "akas\n",
      "9000\n"
     ]
    }
   ],
   "source": [
    "def employee(name,salary=9000):\n",
    "    print(name)\n",
    "    print(salary)\n",
    "b=input('enter name')\n",
    "employee(b,10000)\n",
    "employee(b)\n",
    "\n"
   ]
  },
  {
   "cell_type": "markdown",
   "id": "9789f7a8",
   "metadata": {},
   "source": [
    "1. Write a program which will find all such numbers which are divisible by 7 but are not a multiple of 5,\n",
    "between 2000 and 3200 (both included).\n"
   ]
  },
  {
   "cell_type": "code",
   "execution_count": 30,
   "id": "97f2ee06",
   "metadata": {},
   "outputs": [
    {
     "name": "stdout",
     "output_type": "stream",
     "text": [
      "[2030, 2065, 2100, 2135, 2170, 2205, 2240, 2275, 2310, 2345, 2380, 2415, 2450, 2485, 2520, 2555, 2590, 2625, 2660, 2695, 2730, 2765, 2800, 2835, 2870, 2905, 2940, 2975, 3010, 3045, 3080, 3115, 3150, 3185]\n"
     ]
    }
   ],
   "source": [
    "b=[]\n",
    "for i in range(2000,3200):\n",
    "    if (i%7==0) and (i%5==0):\n",
    "        b.append(i)\n",
    "print(b)"
   ]
  },
  {
   "cell_type": "markdown",
   "id": "603b5bb7",
   "metadata": {},
   "source": [
    "2. With a given integral number n, write a program to generate a dictionary that contains (i, i*i) such that is an integral number between 1 and n (both included). and then the program should print the dictionary.\n",
    "Suppose the following input is supplied to the program:\n",
    "8\n",
    "Then, the output should be:\n",
    "{1: 1, 2: 4, 3: 9, 4: 16, 5: 25, 6: 36, 7: 49, 8: 64}\n",
    "Hints:\n",
    "In case of input data being supplied to the question, it should be assumed to be a console input.\n",
    "Consider use dict()\n",
    "\n"
   ]
  },
  {
   "cell_type": "code",
   "execution_count": 34,
   "id": "47254428",
   "metadata": {},
   "outputs": [
    {
     "name": "stdout",
     "output_type": "stream",
     "text": [
      "{1: 1, 2: 4, 3: 9, 4: 16, 5: 25, 6: 36, 7: 49, 8: 64, 9: 81, 10: 100}\n"
     ]
    }
   ],
   "source": [
    "a={}\n",
    "for i in range(1,11):\n",
    "    a[i]=i*i\n",
    "print(a)"
   ]
  },
  {
   "cell_type": "markdown",
   "id": "a3aae4de",
   "metadata": {},
   "source": [
    "3. Write a program which accepts a sequence of comma-separated numbers from console and generate a list and a tuple which contains every number.\n",
    "Suppose the following input is supplied to the program:\n",
    "34,67,55,33,12,98\n",
    "Then, the output should be:\n",
    "['34', '67', '55', '33', '12', '98']\n",
    "('34', '67', '55', '33', '12', '98')\n",
    "In case of input data being supplied to the question, it should be assumed to be a console input.\n",
    "tuple() method can convert list to tuple\n",
    "\n"
   ]
  },
  {
   "cell_type": "code",
   "execution_count": 43,
   "id": "04b83aed",
   "metadata": {},
   "outputs": [
    {
     "name": "stdout",
     "output_type": "stream",
     "text": [
      "enter coma seperated numbers1,2,3,4,5,6,7,89,\n",
      "list; ['1', '2', '3', '4', '5', '6', '7', '89', '']\n",
      "tuple ('1', '2', '3', '4', '5', '6', '7', '89', '')\n"
     ]
    }
   ],
   "source": [
    "a=input('enter coma seperated numbers')\n",
    "li=a.split(\",\")\n",
    "tu=tuple(li)\n",
    "print('list;',list(li))\n",
    "print('tuple',tu)"
   ]
  },
  {
   "cell_type": "markdown",
   "id": "69b27738",
   "metadata": {},
   "source": [
    "5. Write a program that accepts a comma separated sequence of words as input and prints the words in a comma-separated sequence after sorting them alphabetically.\n",
    "Suppose the following input is supplied to the program:\n",
    "without,hello,bag,world\n",
    "Then, the output should be:\n",
    "bag,hello,without,world\n"
   ]
  },
  {
   "cell_type": "code",
   "execution_count": 1,
   "id": "e1da8dfb",
   "metadata": {},
   "outputs": [
    {
     "name": "stdout",
     "output_type": "stream",
     "text": [
      "enter coma separated sequnece wordshello,wich,world,bag\n",
      "['bag', 'hello', 'wich', 'world']\n"
     ]
    }
   ],
   "source": [
    "se=input('enter coma separated sequnece words')\n",
    "a=se.split(',')\n",
    "print(str(sorted(a)))"
   ]
  },
  {
   "cell_type": "markdown",
   "id": "1f13a926",
   "metadata": {},
   "source": [
    "6. Write a program that accepts sequence of lines as input and prints the lines after making all characters in the sentence capitalized.\n",
    "Suppose the following input is supplied to the program:\n",
    "Hello world\n",
    "Practice makes perfect\n",
    "Then, the output should be:\n",
    "HELLO WORLD\n",
    "PRACTICE MAKES PERFECT"
   ]
  },
  {
   "cell_type": "code",
   "execution_count": 3,
   "id": "7a94c45c",
   "metadata": {},
   "outputs": [
    {
     "name": "stdout",
     "output_type": "stream",
     "text": [
      "enter a wordhello world practice make perfection\n",
      "HELLO WORLD PRACTICE MAKE PERFECTION\n"
     ]
    }
   ],
   "source": [
    "cap=str(input('enter a word'))\n",
    "b=cap.upper()\n",
    "print(b)\n"
   ]
  },
  {
   "cell_type": "markdown",
   "id": "cac05cb0",
   "metadata": {},
   "source": [
    "create a Simple Calculator using python"
   ]
  },
  {
   "cell_type": "code",
   "execution_count": 1,
   "id": "c6425d63",
   "metadata": {},
   "outputs": [
    {
     "name": "stdout",
     "output_type": "stream",
     "text": [
      "enter a number5\n",
      "second number5\n",
      "enter your opertor*\n",
      "25\n"
     ]
    }
   ],
   "source": [
    "e=int(input('enter a number'))\n",
    "f=int(input('second number'))\n",
    "c=input('enter your opertor')\n",
    "if c=='+':\n",
    "    print(e+f)\n",
    "elif c=='-':\n",
    "    print(e-f)\n",
    "elif c=='*':\n",
    "    print(e*f)\n",
    "elif c=='/':\n",
    "    print(e/f)"
   ]
  },
  {
   "cell_type": "code",
   "execution_count": null,
   "id": "f79a05aa",
   "metadata": {},
   "outputs": [],
   "source": []
  }
 ],
 "metadata": {
  "kernelspec": {
   "display_name": "Python 3 (ipykernel)",
   "language": "python",
   "name": "python3"
  },
  "language_info": {
   "codemirror_mode": {
    "name": "ipython",
    "version": 3
   },
   "file_extension": ".py",
   "mimetype": "text/x-python",
   "name": "python",
   "nbconvert_exporter": "python",
   "pygments_lexer": "ipython3",
   "version": "3.9.13"
  }
 },
 "nbformat": 4,
 "nbformat_minor": 5
}
