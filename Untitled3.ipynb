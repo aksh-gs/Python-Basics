{
 "cells": [
  {
   "cell_type": "markdown",
   "id": "0eed997b",
   "metadata": {},
   "source": [
    "1.Write a Python program to read and write an entire text file."
   ]
  },
  {
   "cell_type": "code",
   "execution_count": 3,
   "id": "ee825a35",
   "metadata": {},
   "outputs": [],
   "source": [
    "with open('demo.txt','w')as f:\n",
    "    f.write('good evenig')"
   ]
  },
  {
   "cell_type": "code",
   "execution_count": 6,
   "id": "36abbf2d",
   "metadata": {},
   "outputs": [
    {
     "data": {
      "text/plain": [
       "''"
      ]
     },
     "execution_count": 6,
     "metadata": {},
     "output_type": "execute_result"
    }
   ],
   "source": [
    "f=open('demo.txt','r')\n",
    "f.read()"
   ]
  },
  {
   "cell_type": "code",
   "execution_count": null,
   "id": "477a25b4",
   "metadata": {},
   "outputs": [],
   "source": []
  },
  {
   "cell_type": "code",
   "execution_count": null,
   "id": "7de2e1db",
   "metadata": {},
   "outputs": [],
   "source": []
  }
 ],
 "metadata": {
  "kernelspec": {
   "display_name": "Python 3 (ipykernel)",
   "language": "python",
   "name": "python3"
  },
  "language_info": {
   "codemirror_mode": {
    "name": "ipython",
    "version": 3
   },
   "file_extension": ".py",
   "mimetype": "text/x-python",
   "name": "python",
   "nbconvert_exporter": "python",
   "pygments_lexer": "ipython3",
   "version": "3.9.13"
  }
 },
 "nbformat": 4,
 "nbformat_minor": 5
}
