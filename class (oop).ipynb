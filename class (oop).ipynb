{
 "cells": [
  {
   "cell_type": "code",
   "execution_count": 2,
   "id": "05ebff26",
   "metadata": {},
   "outputs": [
    {
     "name": "stdout",
     "output_type": "stream",
     "text": [
      "cat persian\n"
     ]
    }
   ],
   "source": [
    "class animal:\n",
    "    name='cat'\n",
    "    bread='persian'\n",
    "print(animal.name,animal.bread)"
   ]
  },
  {
   "cell_type": "code",
   "execution_count": 5,
   "id": "c428dcb9",
   "metadata": {},
   "outputs": [
    {
     "name": "stdout",
     "output_type": "stream",
     "text": [
      "izusu d-max\n"
     ]
    }
   ],
   "source": [
    "class vehicle:\n",
    "    def __init__(self,name,model):\n",
    "        self.name=name\n",
    "        self.model=model\n",
    "        print(self.name,self.model)\n",
    "obj=vehicle('izusu','d-max')"
   ]
  },
  {
   "cell_type": "code",
   "execution_count": 9,
   "id": "44bc8232",
   "metadata": {},
   "outputs": [
    {
     "name": "stdout",
     "output_type": "stream",
     "text": [
      "intercpetor 2022\n",
      "bhp and milege is 47 and 25\n"
     ]
    }
   ],
   "source": [
    "class vehicle:\n",
    "    def __init__(self,name,model):\n",
    "        self.name=name\n",
    "        self.model=model\n",
    "    def info(self):\n",
    "        print(self.name,self.model)\n",
    "    def bhpmile(self,bhp,milege):\n",
    "        self.bhp=bhp\n",
    "        self.milege=milege\n",
    "        print('bhp and milege is {} and {}'.format(self.bhp,self.milege))\n",
    "obj=vehicle('intercpetor',2022)\n",
    "obj.info()\n",
    "obj.bhpmile(47,25)"
   ]
  },
  {
   "cell_type": "code",
   "execution_count": 10,
   "id": "7da06e98",
   "metadata": {},
   "outputs": [
    {
     "name": "stdout",
     "output_type": "stream",
     "text": [
      "izusu 2022\n",
      "bhp and milege is 77.77 and 14.04\n"
     ]
    }
   ],
   "source": [
    "class vehicle:\n",
    "    def __init__(self,name,model):\n",
    "        self.name=name\n",
    "        self.model=model\n",
    "    def info(self):\n",
    "        print(self.name,self.model)\n",
    "    def bhpmile(self,bhp,milege):\n",
    "        self.bhp=bhp\n",
    "        self.milege=milege\n",
    "        print('bhp and milege is {} and {}'.format(self.bhp,self.milege))\n",
    "obj=vehicle('izusu',2022)\n",
    "obj.info()\n",
    "obj.bhpmile(77.77,14.04)"
   ]
  },
  {
   "cell_type": "markdown",
   "id": "51c86511",
   "metadata": {},
   "source": [
    "# INHERITANCE"
   ]
  },
  {
   "cell_type": "code",
   "execution_count": 4,
   "id": "78e4d531",
   "metadata": {},
   "outputs": [
    {
     "name": "stdout",
     "output_type": "stream",
     "text": [
      "car\n",
      "musthang gt black\n",
      "milege is 13.0/kmpl\n",
      "speed is 280\n"
     ]
    }
   ],
   "source": [
    "class  vehicle:\n",
    "    def __init__(self,name,color):\n",
    "        self.name=name\n",
    "        self.color=color\n",
    "        print('car')\n",
    "    def display(self):\n",
    "        print(self.name,self.color)\n",
    "    def model(self,model):\n",
    "        print(model)\n",
    "    def milege(self):\n",
    "        print('no milege')\n",
    "class car(vehicle):\n",
    "    def speed(self):\n",
    "        print('speed is 280')\n",
    "    def milege(self):\n",
    "        print('milege is 13.0/kmpl')\n",
    "obj=car('musthang gt','black')\n",
    "obj.display()\n",
    "obj.milege()\n",
    "obj.speed()\n",
    "    "
   ]
  },
  {
   "cell_type": "markdown",
   "id": "631eb469",
   "metadata": {},
   "source": [
    "## MULTIPLE INHERITANCE"
   ]
  },
  {
   "cell_type": "code",
   "execution_count": 24,
   "id": "c2eeed1f",
   "metadata": {},
   "outputs": [
    {
     "name": "stdout",
     "output_type": "stream",
     "text": [
      "NISSAN\n",
      "284\n",
      "GODZILLA\n",
      "2004 280\n",
      "284\n",
      "speed is 280\n",
      "bhp is 284\n",
      "2004 280 284 skyline blue\n"
     ]
    }
   ],
   "source": [
    "class car:\n",
    "    def __init__(self,name,color):\n",
    "        self.name=name\n",
    "        self.color=color\n",
    "        print('NISSAN')\n",
    "        \n",
    "    def display(self):\n",
    "        print(self.name,self.color)\n",
    "        \n",
    "        \n",
    "class nissan:\n",
    "    def __init__(self,model):\n",
    "        self.model=model\n",
    "        print(model)\n",
    "    \n",
    "    def mod(self):\n",
    "        print(self.model)\n",
    "        \n",
    "        \n",
    "class gt(car,nissan):\n",
    "    def __init__(self,speed,bhp,name,color,model):\n",
    "        car.__init__(self,name,color)\n",
    "        nissan.__init__(self,model)\n",
    "       \n",
    "        self.speed=speed\n",
    "        self.bhp=bhp\n",
    "        \n",
    "        print('GODZILLA')\n",
    "        \n",
    "    def info(self):\n",
    "        print(self.name,self.color,self.model,self.speed,self.bhp)\n",
    "        \n",
    "    def sp(self):\n",
    "        print('speed is 280')\n",
    "        \n",
    "    def bp(self):\n",
    "        print('bhp is 284')\n",
    "obj=gt('skyline','blue',2004,280,284)\n",
    "obj.display()    \n",
    "obj.mod()\n",
    "obj.sp()  \n",
    "obj.bp()\n",
    "obj.info()"
   ]
  },
  {
   "cell_type": "markdown",
   "id": "9eb4d841",
   "metadata": {},
   "source": [
    "## MULTILEVEL INHERITANCE"
   ]
  },
  {
   "cell_type": "code",
   "execution_count": 15,
   "id": "28ec6bb2",
   "metadata": {},
   "outputs": [
    {
     "name": "stdout",
     "output_type": "stream",
     "text": [
      "chevrolet\n",
      "dodge\n",
      "speed is 300\n",
      "milege 12.0/kmph\n"
     ]
    }
   ],
   "source": [
    "class car:\n",
    "    def __init__(self,name,color):\n",
    "        self.name=name\n",
    "        self.color=color\n",
    "        print('chevrolet')\n",
    "class chevrolet(car):\n",
    "    def na(self):\n",
    "        print('dodge')\n",
    "    def speed(self):\n",
    "        print('speed is 300')\n",
    "class dodge(chevrolet):\n",
    "    def milege(self):\n",
    "        print('milege 12.0/kmph')\n",
    "        \n",
    "obj=dodge('dodge','black')\n",
    "obj.na()\n",
    "obj.speed()\n",
    "obj.milege()\n",
    "    "
   ]
  },
  {
   "cell_type": "code",
   "execution_count": 25,
   "id": "116b7fb9",
   "metadata": {},
   "outputs": [
    {
     "name": "stdout",
     "output_type": "stream",
     "text": [
      "Lal mani\n",
      "Grandfather name : Lal mani\n",
      "Father name : Rampal\n",
      "Son name : Prince\n"
     ]
    }
   ],
   "source": [
    "class Grandfather:\n",
    "    def __init__(self, grandfathername):\n",
    "        self.grandfathername = grandfathername\n",
    "# Intermediate class\n",
    " \n",
    "class Father(Grandfather):\n",
    "    def __init__(self, fathername, grandfathername):\n",
    "        self.fathername = fathername\n",
    " \n",
    "        # invoking constructor of Grandfather class\n",
    "        Grandfather.__init__(self, grandfathername)\n",
    "# Derived class\n",
    "\n",
    "class Son(Father):\n",
    "    def __init__(self, sonname, fathername, grandfathername):\n",
    "        self.sonname = sonname\n",
    " \n",
    "        # invoking constructor of Father class\n",
    "        Father.__init__(self, fathername, grandfathername)\n",
    " \n",
    "    def print_name(self):\n",
    "        print('Grandfather name :', self.grandfathername)\n",
    "        print(\"Father name :\", self.fathername)\n",
    "        print(\"Son name :\", self.sonname)\n",
    "#  Driver code\n",
    "s1 = Son('Prince', 'Rampal', 'Lal mani')\n",
    "print(s1.grandfathername)\n",
    "s1.print_name()"
   ]
  },
  {
   "cell_type": "code",
   "execution_count": null,
   "id": "d54dc396",
   "metadata": {},
   "outputs": [],
   "source": []
  }
 ],
 "metadata": {
  "kernelspec": {
   "display_name": "Python 3 (ipykernel)",
   "language": "python",
   "name": "python3"
  },
  "language_info": {
   "codemirror_mode": {
    "name": "ipython",
    "version": 3
   },
   "file_extension": ".py",
   "mimetype": "text/x-python",
   "name": "python",
   "nbconvert_exporter": "python",
   "pygments_lexer": "ipython3",
   "version": "3.9.13"
  }
 },
 "nbformat": 4,
 "nbformat_minor": 5
}
