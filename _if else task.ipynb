{
 "cells": [
  {
   "cell_type": "code",
   "execution_count": 8,
   "id": "3d3b4589",
   "metadata": {},
   "outputs": [
    {
     "name": "stdout",
     "output_type": "stream",
     "text": [
      "enter 1 to 12 number11\n",
      "nov\n"
     ]
    }
   ],
   "source": [
    "a=int(input('enter 1 to 12 number'))\n",
    "if a==1:\n",
    "    print('jan')\n",
    "elif a==2:\n",
    "    print('feb')\n",
    "elif a==3:\n",
    "    print('mar')\n",
    "elif a==4:\n",
    "    print('apr')\n",
    "elif a==5:\n",
    "    print('may')\n",
    "elif a==6:\n",
    "    print('jun')\n",
    "elif a==7:\n",
    "    print('JUL')\n",
    "elif a==8:\n",
    "    print('aug')\n",
    "elif a==9:\n",
    "    print('sep')\n",
    "elif a==10:\n",
    "    print('oct')\n",
    "elif a==11:\n",
    "    print('nov')\n",
    "elif a==12:\n",
    "    print('dec')\n",
    "else:\n",
    "    print('wrong number')"
   ]
  },
  {
   "cell_type": "code",
   "execution_count": 14,
   "id": "cd5fadac",
   "metadata": {},
   "outputs": [
    {
     "name": "stdout",
     "output_type": "stream",
     "text": [
      "enter v i b g o r any keyr\n",
      "red\n"
     ]
    }
   ],
   "source": [
    "x=str(input('enter v i b g o r any key'))\n",
    "if x=='v':\n",
    "    print('voilet')\n",
    "elif x=='i':\n",
    "    print('indigo')\n",
    "elif x=='b':\n",
    "    print('blue')\n",
    "elif x=='g':\n",
    "    print('green')\n",
    "elif x=='o':\n",
    "    print('orange')\n",
    "elif x=='r':\n",
    "    print('red')\n",
    "else:\n",
    "    print('error')"
   ]
  },
  {
   "cell_type": "code",
   "execution_count": 1,
   "id": "72fae98b",
   "metadata": {},
   "outputs": [
    {
     "name": "stdout",
     "output_type": "stream",
     "text": [
      "enter any number3\n",
      "not\n"
     ]
    }
   ],
   "source": [
    "b=int(input('enter any number'))\n",
    "if b%5==0:\n",
    "    print('divisible by 5')\n",
    "else:\n",
    "    print('not')"
   ]
  },
  {
   "cell_type": "code",
   "execution_count": 24,
   "id": "bc40d3f0",
   "metadata": {},
   "outputs": [
    {
     "name": "stdout",
     "output_type": "stream",
     "text": [
      "enter your bill amout1500\n",
      "150.0\n"
     ]
    }
   ],
   "source": [
    "c=int(input('enter your bill amout'))\n",
    "if c>=1000:\n",
    "    dis=c*10/100\n",
    "    print(dis)\n",
    "else:\n",
    "    print('no discount')"
   ]
  },
  {
   "cell_type": "code",
   "execution_count": 26,
   "id": "2f83df93",
   "metadata": {},
   "outputs": [
    {
     "name": "stdout",
     "output_type": "stream",
     "text": [
      "enter a your age17\n",
      "not\n"
     ]
    }
   ],
   "source": [
    "m=int(input('enter a your age'))\n",
    "if m>=18:\n",
    "    print('minimu age to election')\n",
    "elif m>25:\n",
    "    print('verifed')\n",
    "else:\n",
    "    print('not')"
   ]
  },
  {
   "cell_type": "code",
   "execution_count": 29,
   "id": "d93ef6fc",
   "metadata": {},
   "outputs": [
    {
     "name": "stdout",
     "output_type": "stream",
     "text": [
      "enter a number2\n",
      "enter a number3\n",
      "enter a number4\n",
      "4\n"
     ]
    }
   ],
   "source": [
    "e=int(input('enter a number'))\n",
    "d=int(input('enter a number'))\n",
    "h=int(input('enter a number'))\n",
    "if e>d:\n",
    "    print(e)\n",
    "elif d>h:\n",
    "    print(d)\n",
    "elif h>e:\n",
    "    print(h)"
   ]
  },
  {
   "cell_type": "code",
   "execution_count": 37,
   "id": "2d450e7b",
   "metadata": {},
   "outputs": [
    {
     "name": "stdout",
     "output_type": "stream",
     "text": [
      "enter a number 1\n",
      "odd \n"
     ]
    }
   ],
   "source": [
    "n=int(input('enter a number '))\n",
    "if n%2==0:\n",
    "    print('number is even')\n",
    "else:\n",
    "    print('odd ')"
   ]
  },
  {
   "cell_type": "code",
   "execution_count": 8,
   "id": "dce4f1e0",
   "metadata": {},
   "outputs": [
    {
     "name": "stdout",
     "output_type": "stream",
     "text": [
      "enter a number4\n",
      "number is not prime\n"
     ]
    }
   ],
   "source": [
    "a=int(input('enter a number'))\n",
    "if a>1:\n",
    "    for i in range(2,a+1):\n",
    "        if a%i==0:\n",
    "            print('number is not prime')\n",
    "            break\n",
    "        else:\n",
    "            print('prime number')\n",
    "else:\n",
    "    print('not a prime number')"
   ]
  },
  {
   "cell_type": "code",
   "execution_count": null,
   "id": "e88c9b9c",
   "metadata": {},
   "outputs": [],
   "source": []
  }
 ],
 "metadata": {
  "kernelspec": {
   "display_name": "Python 3 (ipykernel)",
   "language": "python",
   "name": "python3"
  },
  "language_info": {
   "codemirror_mode": {
    "name": "ipython",
    "version": 3
   },
   "file_extension": ".py",
   "mimetype": "text/x-python",
   "name": "python",
   "nbconvert_exporter": "python",
   "pygments_lexer": "ipython3",
   "version": "3.9.13"
  }
 },
 "nbformat": 4,
 "nbformat_minor": 5
}
