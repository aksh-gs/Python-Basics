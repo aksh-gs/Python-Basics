{
 "cells": [
  {
   "cell_type": "code",
   "execution_count": 6,
   "id": "58536292",
   "metadata": {},
   "outputs": [
    {
     "name": "stdout",
     "output_type": "stream",
     "text": [
      "[1, 2, 3, 4, 5, 6, 7, 'april', 33, 55, 77, 90]\n"
     ]
    }
   ],
   "source": [
    "mylist=[1,2,3,4,5,6,7]\n",
    "mylist1=['april',33,55,77,90]\n",
    "c=mylist+mylist1\n",
    "print(c)"
   ]
  },
  {
   "cell_type": "code",
   "execution_count": 10,
   "id": "4235ae0e",
   "metadata": {},
   "outputs": [
    {
     "name": "stdout",
     "output_type": "stream",
     "text": [
      "[3, 4, 5, 6, 7]\n"
     ]
    }
   ],
   "source": [
    "li=[1,2,3,4,5,6,7,8,9,10,11,21,33,44]\n",
    "print(li[2:7])\n"
   ]
  },
  {
   "cell_type": "code",
   "execution_count": 35,
   "id": "ff69b2f1",
   "metadata": {},
   "outputs": [
    {
     "name": "stdout",
     "output_type": "stream",
     "text": [
      "[1, 2, 'orange', 3, 4, 5, 6, 'football']\n",
      "6\n"
     ]
    }
   ],
   "source": [
    "mytuple=(1,2,3,4,5,6)\n",
    "mytuple=list(mytuple) \n",
    "mytuple.insert(2,'orange')\n",
    "mytuple.append('football')\n",
    "print(mytuple)\n",
    "tuple(mytuple)\n",
    "print(mytuple[-2])"
   ]
  },
  {
   "cell_type": "code",
   "execution_count": 40,
   "id": "6bbbe6bb",
   "metadata": {},
   "outputs": [
    {
     "name": "stdout",
     "output_type": "stream",
     "text": [
      "{1, 2, 3, 4, 5, 6, 7, 'orange'}\n",
      "{1, 2, 3, 4, 5, 6, 7}\n"
     ]
    }
   ],
   "source": [
    "myset={1,2,3,4,5,6,7}\n",
    "myset.add('orange')\n",
    "print(myset)\n",
    "myset.remove('orange')\n",
    "print(myset)"
   ]
  },
  {
   "cell_type": "code",
   "execution_count": 11,
   "id": "77b95be3",
   "metadata": {},
   "outputs": [
    {
     "name": "stdout",
     "output_type": "stream",
     "text": [
      "eneter your height170\n",
      "enter your weight60\n",
      "20.761245674740486\n",
      "Your weight is normal.\n"
     ]
    }
   ],
   "source": [
    "def body(height,weight):\n",
    "    bmi=(weight/height**2)*10000\n",
    "\n",
    "    print(bmi)\n",
    "    if bmi<=18.5:\n",
    "        print('you are under weight')\n",
    "    elif 18.5 < bmi <= 24.9:\n",
    "        print(\"Your weight is normal.\")\n",
    "    elif 25 < bmi <= 29.29:\n",
    "        print(\"You are overweight.\")\n",
    "    else:\n",
    "        print(\"You are obese.\")    \n",
    "h=float(input('eneter your height'))\n",
    "w=float(input('enter your weight'))\n",
    "body(h,w)"
   ]
  },
  {
   "cell_type": "code",
   "execution_count": 16,
   "id": "5f1dbfee",
   "metadata": {},
   "outputs": [
    {
     "name": "stdout",
     "output_type": "stream",
     "text": [
      "5 * 1 = 5\n",
      "5 * 2 = 10\n",
      "5 * 3 = 15\n",
      "5 * 4 = 20\n",
      "5 * 5 = 25\n",
      "5 * 6 = 30\n",
      "5 * 7 = 35\n",
      "5 * 8 = 40\n",
      "5 * 9 = 45\n",
      "5 * 10 = 50\n"
     ]
    }
   ],
   "source": [
    "num=5\n",
    "for i in range(1,11):\n",
    "    print(num,'*',i,'=',num*i)\n",
    "    \n",
    "    "
   ]
  },
  {
   "cell_type": "code",
   "execution_count": 36,
   "id": "d7ee71a6",
   "metadata": {},
   "outputs": [
    {
     "name": "stdout",
     "output_type": "stream",
     "text": [
      "2 * 0 = 0\n",
      "2 * 1 = 4\n"
     ]
    }
   ],
   "source": [
    "num=2\n",
    "for i in range(2):\n",
    "    print(num,'*',i,'=',num*num*i)"
   ]
  },
  {
   "cell_type": "code",
   "execution_count": 38,
   "id": "7ff92920",
   "metadata": {},
   "outputs": [
    {
     "name": "stdout",
     "output_type": "stream",
     "text": [
      "0\n",
      "1\n",
      "1\n",
      "2\n",
      "3\n",
      "5\n",
      "8\n",
      "13\n",
      "21\n",
      "34\n"
     ]
    }
   ],
   "source": [
    "def febi(num):\n",
    "    a=0\n",
    "    b=1\n",
    "    print(a)\n",
    "    print(b)\n",
    "    for i in range(2,num):\n",
    "        c=a+b\n",
    "        a=b\n",
    "        b=c\n",
    "        print(c)\n",
    "febi(10)"
   ]
  },
  {
   "cell_type": "code",
   "execution_count": 40,
   "id": "5c843bb8",
   "metadata": {},
   "outputs": [
    {
     "name": "stdout",
     "output_type": "stream",
     "text": [
      "enter a area12\n",
      "area is 452.15999999999997\n"
     ]
    }
   ],
   "source": [
    "def area(r):\n",
    "    pi=3.14*r*r\n",
    "    print('area is',pi)\n",
    "a=float(input('enter a area'))\n",
    "area(a)"
   ]
  },
  {
   "cell_type": "code",
   "execution_count": 41,
   "id": "c47c8392",
   "metadata": {},
   "outputs": [
    {
     "name": "stdout",
     "output_type": "stream",
     "text": [
      "enter a volium5\n",
      "cube is 125.0\n"
     ]
    }
   ],
   "source": [
    "def volium(c):\n",
    "    cu=c*c*c\n",
    "    print('cube is',cu)\n",
    "a=float(input('enter a volium'))\n",
    "volium(a)\n"
   ]
  },
  {
   "cell_type": "code",
   "execution_count": 43,
   "id": "0dd04a4b",
   "metadata": {},
   "outputs": [
    {
     "name": "stdout",
     "output_type": "stream",
     "text": [
      "enter length23\n",
      "enter weidth12\n",
      "rectangle area is 276.0\n"
     ]
    }
   ],
   "source": [
    "def rect(x,y):\n",
    "    area=x*y\n",
    "    print('rectangle area is',area)\n",
    "a=float(input('enter length'))\n",
    "b=float(input('enter weidth'))\n",
    "rect(a,b)"
   ]
  },
  {
   "cell_type": "code",
   "execution_count": 1,
   "id": "ed1ea166",
   "metadata": {},
   "outputs": [
    {
     "name": "stdout",
     "output_type": "stream",
     "text": [
      "enter a meter5\n",
      "perimeter area is 20.0\n"
     ]
    }
   ],
   "source": [
    "def perimeter(x):\n",
    "    meter=4*x\n",
    "    print('perimeter area is',meter)\n",
    "a=float(input('enter a meter'))\n",
    "perimeter(a)"
   ]
  },
  {
   "cell_type": "code",
   "execution_count": 7,
   "id": "9fc56fb1",
   "metadata": {},
   "outputs": [
    {
     "name": "stdout",
     "output_type": "stream",
     "text": [
      "Enter your sentence: akah\n",
      "a\n"
     ]
    }
   ],
   "source": [
    "sentence = input('Enter your sentence: ')\n",
    "\n",
    "for vowel in 'aeiou':\n",
    "    if vowel in sentence:\n",
    "        print(vowel)"
   ]
  },
  {
   "cell_type": "code",
   "execution_count": 16,
   "id": "91803f31",
   "metadata": {},
   "outputs": [
    {
     "name": "stdout",
     "output_type": "stream",
     "text": [
      "enter a wordmalayalam\n",
      "palindrone\n"
     ]
    }
   ],
   "source": [
    "a=str(input('enter a word'))\n",
    "if a==a[::-1]:\n",
    "    print('palindrone')\n",
    "else:\n",
    "    print('not')"
   ]
  },
  {
   "cell_type": "code",
   "execution_count": 21,
   "id": "68b0a7a5",
   "metadata": {},
   "outputs": [
    {
     "name": "stdout",
     "output_type": "stream",
     "text": [
      "enter a number12321\n",
      "Palindrome\n"
     ]
    }
   ],
   "source": [
    "pal=int(input('enter a number'))\n",
    "reverse = int(str(pal)[::-1])\n",
    "\n",
    "if pal == reverse:\n",
    "    print('Palindrome')\n",
    "else:\n",
    "    print(\"Not Palindrome\")"
   ]
  },
  {
   "cell_type": "code",
   "execution_count": 28,
   "id": "a79a42b1",
   "metadata": {},
   "outputs": [
    {
     "name": "stdout",
     "output_type": "stream",
     "text": [
      "enter a number123\n",
      "1\n",
      "3\n",
      "6\n"
     ]
    }
   ],
   "source": [
    "n=int(input('enter a number'))\n",
    "sum = 0\n",
    "for i in str(n): \n",
    "    sum += int(i)\n",
    "    print(sum)"
   ]
  },
  {
   "cell_type": "code",
   "execution_count": 31,
   "id": "dc9ce112",
   "metadata": {},
   "outputs": [
    {
     "name": "stdout",
     "output_type": "stream",
     "text": [
      "enter numbers12345\n",
      "54321\n"
     ]
    }
   ],
   "source": [
    "rev=int(input('enter numbers'))\n",
    "print(str(rev)[::-1])"
   ]
  },
  {
   "cell_type": "code",
   "execution_count": 3,
   "id": "879e8819",
   "metadata": {},
   "outputs": [
    {
     "name": "stdout",
     "output_type": "stream",
     "text": [
      "50 30\n",
      "None\n"
     ]
    }
   ],
   "source": [
    "def calculation(a,b):\n",
    "    addition =a+b\n",
    "    subtraction =a-b\n",
    "    print(addition, subtraction)\n",
    "a=calculation(40,10)\n",
    "print(a)"
   ]
  },
  {
   "cell_type": "code",
   "execution_count": 1,
   "id": "c05be381",
   "metadata": {},
   "outputs": [
    {
     "name": "stdout",
     "output_type": "stream",
     "text": [
      "enter a number153\n",
      "1\n",
      "126\n",
      "153\n",
      "not\n"
     ]
    }
   ],
   "source": [
    "enter=(input('enter a number'))\n",
    "sum=0\n",
    "for i in enter:\n",
    "    sum=sum+int(i)**3\n",
    "    print(sum)\n",
    "if enter==sum:\n",
    "    print('armstrong number')\n",
    "else:\n",
    "    print('not')\n",
    "    "
   ]
  },
  {
   "cell_type": "code",
   "execution_count": null,
   "id": "c89d465e",
   "metadata": {},
   "outputs": [],
   "source": []
  }
 ],
 "metadata": {
  "kernelspec": {
   "display_name": "Python 3 (ipykernel)",
   "language": "python",
   "name": "python3"
  },
  "language_info": {
   "codemirror_mode": {
    "name": "ipython",
    "version": 3
   },
   "file_extension": ".py",
   "mimetype": "text/x-python",
   "name": "python",
   "nbconvert_exporter": "python",
   "pygments_lexer": "ipython3",
   "version": "3.9.13"
  }
 },
 "nbformat": 4,
 "nbformat_minor": 5
}
