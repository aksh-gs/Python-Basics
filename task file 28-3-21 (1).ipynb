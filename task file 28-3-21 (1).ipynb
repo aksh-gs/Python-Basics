{
 "cells": [
  {
   "cell_type": "markdown",
   "id": "b73f58ca",
   "metadata": {},
   "source": [
    "1.Write a Python program to read and write an entire text file."
   ]
  },
  {
   "cell_type": "code",
   "execution_count": 1,
   "id": "6036e54d",
   "metadata": {},
   "outputs": [
    {
     "name": "stdout",
     "output_type": "stream",
     "text": [
      "<_io.TextIOWrapper name='iron.txt' mode='w' encoding='cp1252'>\n"
     ]
    }
   ],
   "source": [
    "with open('iron.txt','w')as f2:\n",
    "    f2.write('good eving')\n",
    "    print(f2)"
   ]
  },
  {
   "cell_type": "code",
   "execution_count": 6,
   "id": "3b59f8d7",
   "metadata": {},
   "outputs": [
    {
     "name": "stdout",
     "output_type": "stream",
     "text": [
      "good eving\n"
     ]
    }
   ],
   "source": [
    "with open('iron.txt','r')as f:\n",
    "    lines=f.read()\n",
    "    print(lines)"
   ]
  },
  {
   "cell_type": "markdown",
   "id": "461487e4",
   "metadata": {},
   "source": [
    "2.Write a Python program to append text to a file and display the text."
   ]
  },
  {
   "cell_type": "code",
   "execution_count": 7,
   "id": "76079ce3",
   "metadata": {},
   "outputs": [],
   "source": [
    "with open('iron.txt','a')as f3:\n",
    "    f3.write('good moring')"
   ]
  },
  {
   "cell_type": "markdown",
   "id": "c6f93818",
   "metadata": {},
   "source": [
    "3.Python Program to Copy a File"
   ]
  },
  {
   "cell_type": "code",
   "execution_count": 13,
   "id": "b25735ee",
   "metadata": {},
   "outputs": [],
   "source": [
    "with open('iron.txt','r')as new,open('second.txt','a') as new1:\n",
    "    for line in new:\n",
    "        new1.write(line)"
   ]
  },
  {
   "cell_type": "markdown",
   "id": "9090df10",
   "metadata": {},
   "source": [
    "4.Count number of lines in a text file in Python"
   ]
  },
  {
   "cell_type": "code",
   "execution_count": 14,
   "id": "62e368cc",
   "metadata": {},
   "outputs": [
    {
     "name": "stdout",
     "output_type": "stream",
     "text": [
      "1\n"
     ]
    }
   ],
   "source": [
    "with open('iron.txt','r')as s1:\n",
    "    line=len(s1.readlines())\n",
    "    print(line)"
   ]
  },
  {
   "cell_type": "code",
   "execution_count": null,
   "id": "64a5d49d",
   "metadata": {},
   "outputs": [],
   "source": []
  }
 ],
 "metadata": {
  "kernelspec": {
   "display_name": "Python 3 (ipykernel)",
   "language": "python",
   "name": "python3"
  },
  "language_info": {
   "codemirror_mode": {
    "name": "ipython",
    "version": 3
   },
   "file_extension": ".py",
   "mimetype": "text/x-python",
   "name": "python",
   "nbconvert_exporter": "python",
   "pygments_lexer": "ipython3",
   "version": "3.9.13"
  }
 },
 "nbformat": 4,
 "nbformat_minor": 5
}
