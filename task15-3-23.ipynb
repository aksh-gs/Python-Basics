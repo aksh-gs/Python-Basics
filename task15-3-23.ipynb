{
 "cells": [
  {
   "cell_type": "code",
   "execution_count": 2,
   "id": "fa5d72a3",
   "metadata": {},
   "outputs": [
    {
     "name": "stdout",
     "output_type": "stream",
     "text": [
      "enter a number12321\n",
      "number is palindrome\n"
     ]
    }
   ],
   "source": [
    "a=int(input('enter a number'))\n",
    "bc=int(str(a)[::-1])\n",
    "if a==bc:\n",
    "    print('number is palindrome')\n",
    "else:\n",
    "    print('not')\n"
   ]
  },
  {
   "cell_type": "code",
   "execution_count": 3,
   "id": "92a6a0ea",
   "metadata": {},
   "outputs": [
    {
     "name": "stdout",
     "output_type": "stream",
     "text": [
      "divisible by 2 or 3\n",
      "6\n",
      "12\n",
      "18\n"
     ]
    }
   ],
   "source": [
    "a=[]\n",
    "for i in range (1,21):\n",
    "    if i%2 ==0 and i%3 ==0:\n",
    "        a.append(i)\n",
    "print('divisible by 2 or 3')\n",
    "for c in a:\n",
    "    print(c)"
   ]
  },
  {
   "cell_type": "code",
   "execution_count": 4,
   "id": "423eca5d",
   "metadata": {},
   "outputs": [
    {
     "name": "stdout",
     "output_type": "stream",
     "text": [
      "divisible by 2:\n",
      "2\n",
      "4\n",
      "6\n",
      "8\n",
      "10\n",
      "12\n",
      "14\n",
      "16\n",
      "18\n",
      "20\n"
     ]
    }
   ],
   "source": [
    "b=[]\n",
    "for i in range(1,21):\n",
    "    if i%2==0:\n",
    "        b.append(i)\n",
    "print ('divisible by 2:')\n",
    "for two in b:\n",
    "    print(two)\n"
   ]
  },
  {
   "cell_type": "code",
   "execution_count": 53,
   "id": "97424c5e",
   "metadata": {},
   "outputs": [
    {
     "name": "stdout",
     "output_type": "stream",
     "text": [
      "enter a number1234\n",
      "10\n"
     ]
    }
   ],
   "source": [
    "s=(input('enter a number'))\n",
    "sum=0\n",
    "for i in s:\n",
    "    sum=sum+int(i)\n",
    "print(sum)\n",
    "\n",
    "    \n"
   ]
  },
  {
   "cell_type": "code",
   "execution_count": 60,
   "id": "3671be97",
   "metadata": {},
   "outputs": [
    {
     "name": "stdout",
     "output_type": "stream",
     "text": [
      "enter a number10\n",
      "divisor of 1\n",
      "divisor of 2\n",
      "divisor of 5\n",
      "divisor of 10\n"
     ]
    }
   ],
   "source": [
    "n=int(input('enter a number'))\n",
    "for i in range(1,n+1):\n",
    "    if n%i==0:\n",
    "        print('divisor of',i)"
   ]
  },
  {
   "cell_type": "code",
   "execution_count": 61,
   "id": "73bad937",
   "metadata": {},
   "outputs": [
    {
     "name": "stdout",
     "output_type": "stream",
     "text": [
      "5 * 1 = 5\n",
      "5 * 2 = 10\n",
      "5 * 3 = 15\n",
      "5 * 4 = 20\n",
      "5 * 5 = 25\n",
      "5 * 6 = 30\n",
      "5 * 7 = 35\n",
      "5 * 8 = 40\n",
      "5 * 9 = 45\n",
      "5 * 10 = 50\n"
     ]
    }
   ],
   "source": [
    "a=5\n",
    "for i in range(1,11):\n",
    "    print(a,'*',i,'=',i*a)"
   ]
  },
  {
   "cell_type": "code",
   "execution_count": 64,
   "id": "dd18a657",
   "metadata": {},
   "outputs": [
    {
     "name": "stdout",
     "output_type": "stream",
     "text": [
      "enter a year2001\n",
      "not\n"
     ]
    }
   ],
   "source": [
    "year=int(input('enter a year'))\n",
    "if year%4==0:\n",
    "    print('it is a leap year')\n",
    "else:\n",
    "    print('not')"
   ]
  },
  {
   "cell_type": "code",
   "execution_count": 66,
   "id": "d9774f57",
   "metadata": {},
   "outputs": [
    {
     "name": "stdout",
     "output_type": "stream",
     "text": [
      "enter your centmeter value10\n",
      "inch is 3.9400000000000004\n",
      "feet is  0.328\n"
     ]
    }
   ],
   "source": [
    "a=int(input('enter your centmeter value'))\n",
    "inch=0.394*a\n",
    "feet=0.0328*a\n",
    "print('inch is',inch)\n",
    "print('feet is ',feet)"
   ]
  },
  {
   "cell_type": "code",
   "execution_count": 3,
   "id": "cb36f550",
   "metadata": {
    "scrolled": true
   },
   "outputs": [
    {
     "name": "stdout",
     "output_type": "stream",
     "text": [
      "enter a number153\n",
      "1\n",
      "126\n",
      "153\n",
      "not\n"
     ]
    }
   ],
   "source": [
    "enter=(input('enter a number'))\n",
    "sum=0\n",
    "for i in enter:\n",
    "    sum=sum+int(i)**3\n",
    "    print(sum)\n",
    "if enter==sum:\n",
    "    print('armstrong number')\n",
    "else:\n",
    "    print('not')\n",
    "    "
   ]
  },
  {
   "cell_type": "code",
   "execution_count": 22,
   "id": "ca6a438e",
   "metadata": {},
   "outputs": [
    {
     "name": "stdout",
     "output_type": "stream",
     "text": [
      "3025\n"
     ]
    }
   ],
   "source": [
    "sum=0\n",
    "for i in range(1,11):\n",
    "   \n",
    "    sum=sum+i**3\n",
    "print(sum)"
   ]
  },
  {
   "cell_type": "code",
   "execution_count": 36,
   "id": "a8958d00",
   "metadata": {},
   "outputs": [
    {
     "name": "stdout",
     "output_type": "stream",
     "text": [
      "enter a number10\n",
      "1\n"
     ]
    }
   ],
   "source": [
    "n=int(input('enter a number'))\n",
    "a=[]\n",
    "for i in range(1,n+1):\n",
    "    if n%i==0:\n",
    "        a.append(i)\n",
    "print(min(a))   "
   ]
  },
  {
   "cell_type": "code",
   "execution_count": 37,
   "id": "24b4c8e1",
   "metadata": {},
   "outputs": [
    {
     "name": "stdout",
     "output_type": "stream",
     "text": [
      "enter a value25.5\n",
      "fahrnheit is 77.9\n"
     ]
    }
   ],
   "source": [
    "a=float(input('enter a value'))\n",
    "fh=(a*1.8)+32\n",
    "print('fahrnheit is',fh)"
   ]
  },
  {
   "cell_type": "code",
   "execution_count": 15,
   "id": "40ca2b44",
   "metadata": {},
   "outputs": [
    {
     "name": "stdout",
     "output_type": "stream",
     "text": [
      "enter a number6\n",
      "* * * * * \n",
      "* * * * \n",
      "* * * \n",
      "* * \n",
      "* \n",
      "\n"
     ]
    }
   ],
   "source": [
    "m=int(input('enter a number'))\n",
    "for i in range(m):\n",
    "    for j in range(i,m-1):\n",
    "        print('*',end=\" \")\n",
    "    print()"
   ]
  },
  {
   "cell_type": "code",
   "execution_count": 11,
   "id": "6c8dff61",
   "metadata": {},
   "outputs": [
    {
     "name": "stdout",
     "output_type": "stream",
     "text": [
      "enter a number6\n",
      "* \n",
      "* * \n",
      "* * * \n",
      "* * * * \n",
      "* * * * * \n",
      "* * * * * * \n"
     ]
    }
   ],
   "source": [
    "n=int(input('enter a number'))\n",
    "for i in range(n):\n",
    "    for j in range(i+1):\n",
    "        print('*',end=' ')\n",
    "    print()"
   ]
  },
  {
   "cell_type": "code",
   "execution_count": 45,
   "id": "33923332",
   "metadata": {},
   "outputs": [
    {
     "name": "stdout",
     "output_type": "stream",
     "text": [
      "enter a triangle value 12\n",
      "enter a triangle value 13\n",
      "enter a triangle value 10\n",
      "56.99506557588999\n"
     ]
    }
   ],
   "source": [
    "a=float(input('enter a triangle value '))\n",
    "b=float(input('enter a triangle value '))\n",
    "c=float(input('enter a triangle value '))\n",
    "d=(a+b+c)/2\n",
    "area=(d*(d-a)*(d-b)*(d-c)) ** 0.5\n",
    "print(area)"
   ]
  },
  {
   "cell_type": "code",
   "execution_count": 1,
   "id": "8655cefa",
   "metadata": {},
   "outputs": [
    {
     "name": "stdout",
     "output_type": "stream",
     "text": [
      "enter your amount1000\n",
      "simple interst 144.0\n"
     ]
    }
   ],
   "source": [
    "a=int(input('enter your amount'))\n",
    "y=12\n",
    "r=1.2\n",
    "si=(a*y*r)/100\n",
    "print('simple interst',si)"
   ]
  },
  {
   "cell_type": "code",
   "execution_count": 5,
   "id": "dbb7c757",
   "metadata": {},
   "outputs": [
    {
     "name": "stdout",
     "output_type": "stream",
     "text": [
      "Enter the first number: 3\n",
      "Enter the second number: 5\n",
      "Quotient is: 0\n",
      "Remainder is: 3\n"
     ]
    }
   ],
   "source": [
    "a=int(input(\"Enter the first number: \"))\n",
    "b=int(input(\"Enter the second number: \"))\n",
    "quotient=a//b\n",
    "remainder=a%b\n",
    "print(\"Quotient is:\",quotient)\n",
    "print(\"Remainder is:\",remainder)"
   ]
  },
  {
   "cell_type": "code",
   "execution_count": 6,
   "id": "14b25ce7",
   "metadata": {},
   "outputs": [
    {
     "name": "stdout",
     "output_type": "stream",
     "text": [
      "enter a number4\n",
      "enter a number5\n",
      "4 5\n",
      "swapimg number is 5 4\n"
     ]
    }
   ],
   "source": [
    "x=int(input('enter a number'))\n",
    "y=int(input('enter a number'))\n",
    "print(x,y)\n",
    "x,y=y,x\n",
    "print('swapimg number is',x,y)"
   ]
  },
  {
   "cell_type": "code",
   "execution_count": 7,
   "id": "b03e752b",
   "metadata": {},
   "outputs": [
    {
     "name": "stdout",
     "output_type": "stream",
     "text": [
      "enter a number10\n",
      "sum series 2.9289682539682538\n"
     ]
    }
   ],
   "source": [
    "n=int(input('enter a number'))\n",
    "sum=0\n",
    "for i in range(1,n+1):\n",
    "    sum=sum+(1/i)\n",
    "print('sum series',sum)\n",
    "    "
   ]
  },
  {
   "cell_type": "code",
   "execution_count": 10,
   "id": "1ed4998f",
   "metadata": {},
   "outputs": [
    {
     "name": "stdout",
     "output_type": "stream",
     "text": [
      "enter a number10\n",
      "2.9289682539682538\n"
     ]
    }
   ],
   "source": [
    "n=int(input('enter a number'))\n",
    "i=1\n",
    "s=0\n",
    "for i in range(1,n+1):\n",
    "    s=s+1/i\n",
    "print(s)"
   ]
  },
  {
   "cell_type": "code",
   "execution_count": 7,
   "id": "dd0cf5ca",
   "metadata": {},
   "outputs": [
    {
     "name": "stdout",
     "output_type": "stream",
     "text": [
      "enter a strigaksh\n",
      "4\n"
     ]
    }
   ],
   "source": [
    "x=input('enter a strig')\n",
    "count=0\n",
    "for i in x:\n",
    "    count=count+1\n",
    "print(count)"
   ]
  },
  {
   "cell_type": "code",
   "execution_count": 9,
   "id": "4abb8396",
   "metadata": {},
   "outputs": [
    {
     "name": "stdout",
     "output_type": "stream",
     "text": [
      "enter a wordakas gd\n",
      "number of string and word 0 8\n"
     ]
    }
   ],
   "source": [
    "word=input('enter a word')\n",
    "count=0\n",
    "char=1\n",
    "for i in word:\n",
    "    char=char+1\n",
    "    if i==word:\n",
    "        count=count+1\n",
    "print('number of string and word',count,char)"
   ]
  },
  {
   "cell_type": "code",
   "execution_count": 12,
   "id": "0cf69a30",
   "metadata": {},
   "outputs": [
    {
     "name": "stdout",
     "output_type": "stream",
     "text": [
      "enter anyakash gs\n",
      "akash gs\n",
      "_a_k_a_s_h_ _g_s_\n"
     ]
    }
   ],
   "source": [
    "new=input('enter any')\n",
    "print(new)\n",
    "new=new.replace('','_')\n",
    "print(new)"
   ]
  },
  {
   "cell_type": "code",
   "execution_count": 14,
   "id": "f1fc14a4",
   "metadata": {},
   "outputs": [
    {
     "name": "stdout",
     "output_type": "stream",
     "text": [
      "enter stringAKash\n",
      "3\n"
     ]
    }
   ],
   "source": [
    "de=input(\"enter string\")\n",
    "c=0\n",
    "for i in de:\n",
    "    if (i.islower()):\n",
    "        c=c+1\n",
    "print(c)\n"
   ]
  },
  {
   "cell_type": "code",
   "execution_count": 1,
   "id": "18549dd4",
   "metadata": {},
   "outputs": [
    {
     "name": "stdout",
     "output_type": "stream",
     "text": [
      "Enter string:akash\n",
      "2\n"
     ]
    }
   ],
   "source": [
    "df=input(\"Enter string:\")\n",
    "v=0\n",
    "for i in df:\n",
    "      if(i=='a' or i=='e' or i=='i' or i=='o' or i=='u'):\n",
    "            v=v+1\n",
    "\n",
    "print(v)\n"
   ]
  },
  {
   "cell_type": "code",
   "execution_count": 44,
   "id": "d33d9927",
   "metadata": {},
   "outputs": [
    {
     "name": "stdout",
     "output_type": "stream",
     "text": [
      "enter a strigaksh\n",
      "enter second stringaswanth\n",
      "a\n",
      "s\n",
      "h\n"
     ]
    }
   ],
   "source": [
    "s=input('enter a strig')\n",
    "s1=input('enter second string')\n",
    "a=list(set(s)&set(s1))\n",
    "for i in a:\n",
    "    print(i)"
   ]
  },
  {
   "cell_type": "code",
   "execution_count": 45,
   "id": "9421c086",
   "metadata": {},
   "outputs": [
    {
     "name": "stdout",
     "output_type": "stream",
     "text": [
      "enter a wordmalayalam\n",
      "palindrone\n"
     ]
    }
   ],
   "source": [
    "a=str(input('enter a word'))\n",
    "if a==a[::-1]:\n",
    "    print('palindrone')\n",
    "else:\n",
    "    print('not')"
   ]
  },
  {
   "cell_type": "code",
   "execution_count": 25,
   "id": "98d0a939",
   "metadata": {},
   "outputs": [
    {
     "name": "stdout",
     "output_type": "stream",
     "text": [
      "Enter first number: 10\n",
      "Enter second number: 12\n",
      "The product is: 120\n"
     ]
    }
   ],
   "source": [
    "n1 = int(input(\"Enter first number: \"))\n",
    "n2 = int(input(\"Enter second number: \"))\n",
    "\n",
    "prod = n1 * n2\n",
    "\n",
    "print(\"The product is:\",prod)"
   ]
  },
  {
   "cell_type": "code",
   "execution_count": null,
   "id": "6c1ba466",
   "metadata": {},
   "outputs": [],
   "source": [
    "p=int(input('enter a number'))\n",
    "i=1\n",
    "for j in range(1,t+1):\n",
    "    "
   ]
  }
 ],
 "metadata": {
  "kernelspec": {
   "display_name": "Python 3 (ipykernel)",
   "language": "python",
   "name": "python3"
  },
  "language_info": {
   "codemirror_mode": {
    "name": "ipython",
    "version": 3
   },
   "file_extension": ".py",
   "mimetype": "text/x-python",
   "name": "python",
   "nbconvert_exporter": "python",
   "pygments_lexer": "ipython3",
   "version": "3.9.13"
  }
 },
 "nbformat": 4,
 "nbformat_minor": 5
}
