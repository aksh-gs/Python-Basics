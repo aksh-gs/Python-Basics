{
 "cells": [
  {
   "cell_type": "code",
   "execution_count": 24,
   "id": "b02178f9",
   "metadata": {},
   "outputs": [],
   "source": [
    "f=open('demo.txt','r')\n",
    "f.read()\n",
    "\n",
    "f.close()"
   ]
  },
  {
   "cell_type": "code",
   "execution_count": 34,
   "id": "bcb62ac0",
   "metadata": {},
   "outputs": [],
   "source": [
    "with open('jarvis.txt','w')as f2:\n",
    "    f2.write('hello aksh jarvis here')"
   ]
  },
  {
   "cell_type": "code",
   "execution_count": 30,
   "id": "9f6b3682",
   "metadata": {},
   "outputs": [
    {
     "data": {
      "text/plain": [
       "<_io.TextIOWrapper name='demos.txt' mode='w' encoding='cp1252'>"
      ]
     },
     "execution_count": 30,
     "metadata": {},
     "output_type": "execute_result"
    }
   ],
   "source": [
    "f1"
   ]
  },
  {
   "cell_type": "code",
   "execution_count": 38,
   "id": "0191aae7",
   "metadata": {},
   "outputs": [],
   "source": [
    "with open('demo.txt','w')as d:\n",
    "    d.write('am jarvis how can i hlep you')\n",
    "    d.write('jarvis can fix all things')"
   ]
  },
  {
   "cell_type": "code",
   "execution_count": 40,
   "id": "5672d7b3",
   "metadata": {},
   "outputs": [],
   "source": [
    "with open('demo.txt','a')as d1:\n",
    "    d1.write('jarvis are you here')"
   ]
  },
  {
   "cell_type": "code",
   "execution_count": null,
   "id": "1fa47f5a",
   "metadata": {},
   "outputs": [],
   "source": []
  }
 ],
 "metadata": {
  "kernelspec": {
   "display_name": "Python 3 (ipykernel)",
   "language": "python",
   "name": "python3"
  },
  "language_info": {
   "codemirror_mode": {
    "name": "ipython",
    "version": 3
   },
   "file_extension": ".py",
   "mimetype": "text/x-python",
   "name": "python",
   "nbconvert_exporter": "python",
   "pygments_lexer": "ipython3",
   "version": "3.9.13"
  }
 },
 "nbformat": 4,
 "nbformat_minor": 5
}
