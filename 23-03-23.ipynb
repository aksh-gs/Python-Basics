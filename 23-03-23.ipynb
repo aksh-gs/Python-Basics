{
 "cells": [
  {
   "cell_type": "markdown",
   "id": "d5f5a927",
   "metadata": {},
   "source": [
    "1.Print first and last name in reverse order with a space between them"
   ]
  },
  {
   "cell_type": "code",
   "execution_count": 3,
   "id": "8e28e958",
   "metadata": {},
   "outputs": [
    {
     "name": "stdout",
     "output_type": "stream",
     "text": [
      "enter first nameaksh\n",
      "enter last namegs\n",
      "sghska\n"
     ]
    }
   ],
   "source": [
    "a=input('enter first name')\n",
    "b=input('enter last name')\n",
    "c=a+b\n",
    "print(c[::-1])"
   ]
  },
  {
   "cell_type": "markdown",
   "id": "25a7594b",
   "metadata": {},
   "source": [
    "2.Generate a list and tuple with comma-separated numbers"
   ]
  },
  {
   "cell_type": "code",
   "execution_count": 5,
   "id": "115f527f",
   "metadata": {},
   "outputs": [
    {
     "name": "stdout",
     "output_type": "stream",
     "text": [
      "enter coma separted values1,2,3,4,5,6\n",
      "['1', '2', '3', '4', '5', '6']\n",
      "('1', '2', '3', '4', '5', '6')\n"
     ]
    }
   ],
   "source": [
    "a=(input('enter coma separted values'))\n",
    "li=a.split(',')\n",
    "print(list(li))\n",
    "print(tuple(li))"
   ]
  },
  {
   "cell_type": "markdown",
   "id": "4f2f885f",
   "metadata": {},
   "source": [
    "3.Calculate the sum of three given numbers, if the values are equal then return thrice of their sum\n"
   ]
  },
  {
   "cell_type": "code",
   "execution_count": 5,
   "id": "4af8dc94",
   "metadata": {},
   "outputs": [
    {
     "name": "stdout",
     "output_type": "stream",
     "text": [
      "enter a number1\n",
      "enter a number1\n",
      "enter a number1\n",
      "9\n"
     ]
    }
   ],
   "source": [
    "a=int(input('enter a number'))\n",
    "b=int(input('enter a number'))\n",
    "c=int(input('enter a number'))\n",
    "sum=a+b+c\n",
    "if a==b==c:\n",
    "    sum=sum*3\n",
    "    print(sum)\n",
    "\n"
   ]
  },
  {
   "cell_type": "markdown",
   "id": "39f013fe",
   "metadata": {},
   "source": [
    "4.Get a single string from two given strings, separated by a space and swap the first two characters of each string"
   ]
  },
  {
   "cell_type": "code",
   "execution_count": 2,
   "id": "726cbdc3",
   "metadata": {},
   "outputs": [
    {
     "name": "stdout",
     "output_type": "stream",
     "text": [
      "hello world\n",
      "wollo herld\n"
     ]
    }
   ],
   "source": [
    "a='hello'\n",
    "b='world'\n",
    "print(a,b)\n",
    "a1=b[:2]+a[2:]\n",
    "b1=a[:2]+b[2:]\n",
    "print(a1,b1)"
   ]
  },
  {
   "cell_type": "markdown",
   "id": "a1d1f6ad",
   "metadata": {},
   "source": [
    "5.Write a Python program to print out a set containing all the colors from color_list_1 which are not present in color_list_2."
   ]
  },
  {
   "cell_type": "code",
   "execution_count": 6,
   "id": "130fd7f4",
   "metadata": {},
   "outputs": [
    {
     "name": "stdout",
     "output_type": "stream",
     "text": [
      "{'green', 'black', 'red'}\n",
      "{'white', 'brown'}\n"
     ]
    }
   ],
   "source": [
    "l1=set(['red','blue','green','black'])\n",
    "l2=set(['white','blue','brown'])\n",
    "print(l1.difference(l2))\n",
    "print(l2.difference(l1))"
   ]
  },
  {
   "cell_type": "markdown",
   "id": "4af7adb4",
   "metadata": {},
   "source": [
    "7.Convert a given string into a list of words"
   ]
  },
  {
   "cell_type": "code",
   "execution_count": 7,
   "id": "fc5bd680",
   "metadata": {},
   "outputs": [
    {
     "name": "stdout",
     "output_type": "stream",
     "text": [
      "['a', 'k', 'a', 's', 'h']\n"
     ]
    }
   ],
   "source": [
    "a='akash'\n",
    "print(list(a))"
   ]
  },
  {
   "cell_type": "markdown",
   "id": "3cf5bd34",
   "metadata": {},
   "source": [
    "8.Write a Python function to multiply all the numbers in a list."
   ]
  },
  {
   "cell_type": "code",
   "execution_count": 11,
   "id": "3a71d0c2",
   "metadata": {},
   "outputs": [
    {
     "name": "stdout",
     "output_type": "stream",
     "text": [
      "[1, 4, 9, 25, 36, 49, 64]\n"
     ]
    }
   ],
   "source": [
    "a=[1,2,3,5,6,7,8]\n",
    "li=list(map(lambda x:x*x,a))\n",
    "print(li)"
   ]
  },
  {
   "cell_type": "markdown",
   "id": "6d243516",
   "metadata": {},
   "source": [
    "9.Find common items from two lists"
   ]
  },
  {
   "cell_type": "code",
   "execution_count": 12,
   "id": "3956c92a",
   "metadata": {},
   "outputs": [
    {
     "name": "stdout",
     "output_type": "stream",
     "text": [
      "[2, 4, 6, 8, 10]\n"
     ]
    }
   ],
   "source": [
    "a=[1,2,3,4,5,6,7,8,9,10]\n",
    "b=[2,4,6,8,10,12,14,16,18]\n",
    "x=set(a)\n",
    "y=set(b)\n",
    "n=x.intersection(y)\n",
    "print(list(n))"
   ]
  },
  {
   "cell_type": "code",
   "execution_count": null,
   "id": "457da74d",
   "metadata": {},
   "outputs": [],
   "source": []
  }
 ],
 "metadata": {
  "kernelspec": {
   "display_name": "Python 3 (ipykernel)",
   "language": "python",
   "name": "python3"
  },
  "language_info": {
   "codemirror_mode": {
    "name": "ipython",
    "version": 3
   },
   "file_extension": ".py",
   "mimetype": "text/x-python",
   "name": "python",
   "nbconvert_exporter": "python",
   "pygments_lexer": "ipython3",
   "version": "3.9.13"
  }
 },
 "nbformat": 4,
 "nbformat_minor": 5
}
