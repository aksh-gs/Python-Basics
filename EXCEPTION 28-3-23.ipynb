{
 "cells": [
  {
   "cell_type": "code",
   "execution_count": 1,
   "id": "a82d67e6",
   "metadata": {},
   "outputs": [
    {
     "name": "stdout",
     "output_type": "stream",
     "text": [
      "ZerodivisonError\n",
      "always excute\n"
     ]
    }
   ],
   "source": [
    "try:\n",
    "    a=10\n",
    "    b=a/0\n",
    "except:\n",
    "    print('ZerodivisonError')\n",
    "finally:\n",
    "    print('always excute')"
   ]
  },
  {
   "cell_type": "code",
   "execution_count": 3,
   "id": "c344a915",
   "metadata": {},
   "outputs": [
    {
     "name": "stdout",
     "output_type": "stream",
     "text": [
      "error occured\n",
      "erroexcute\n"
     ]
    }
   ],
   "source": [
    "try:\n",
    "    li=[1,2,3,4,5,6,7,8,9,10]\n",
    "    for i in li:\n",
    "        if(i%2==1):\n",
    "            b=i/0\n",
    "        else:\n",
    "            c=i/2\n",
    "except:\n",
    "    print('error occured')\n",
    "finally:\n",
    "    print('erroexcute')\n",
    "            "
   ]
  },
  {
   "cell_type": "code",
   "execution_count": null,
   "id": "a94d7600",
   "metadata": {},
   "outputs": [],
   "source": []
  }
 ],
 "metadata": {
  "kernelspec": {
   "display_name": "Python 3 (ipykernel)",
   "language": "python",
   "name": "python3"
  },
  "language_info": {
   "codemirror_mode": {
    "name": "ipython",
    "version": 3
   },
   "file_extension": ".py",
   "mimetype": "text/x-python",
   "name": "python",
   "nbconvert_exporter": "python",
   "pygments_lexer": "ipython3",
   "version": "3.9.13"
  }
 },
 "nbformat": 4,
 "nbformat_minor": 5
}
