{
 "cells": [
  {
   "cell_type": "markdown",
   "id": "bd9ae98b",
   "metadata": {},
   "source": [
    "1.\tCreate a class named 'Shape' with a method to print \"This is shape\". Then create two other classes named 'Rectangle', 'Circle' inheriting the Shape class, both having a method to print \"This is rectangular shape\" and \"This is circular shape\" respectively. Create a subclass 'Square' of 'Rectangle' having a method to print \"Square is a rectangle\". Now call the method of 'Shape' and 'Rectangle' class by the object of 'Square' class.\n"
   ]
  },
  {
   "cell_type": "code",
   "execution_count": 9,
   "id": "d00cbe73",
   "metadata": {},
   "outputs": [
    {
     "name": "stdout",
     "output_type": "stream",
     "text": [
      "this shape\n",
      "this rectangle shape\n",
      "squre is a rectangle\n"
     ]
    }
   ],
   "source": [
    "class shape:\n",
    "    def fun(self):\n",
    "        print('this shape')\n",
    "class rectangle(shape):\n",
    "    def fun1(self):\n",
    "        print('this rectangle shape')\n",
    "class circle(shape):\n",
    "    def fun2(self):\n",
    "        print('this is circular shape')\n",
    "class squre(rectangle):\n",
    "    def fun3(self):\n",
    "        print('squre is a rectangle')\n",
    "obj=squre()\n",
    "obj.fun()\n",
    "obj.fun1()\n",
    "obj.fun3()"
   ]
  },
  {
   "cell_type": "markdown",
   "id": "2c628d0a",
   "metadata": {},
   "source": [
    "2.Create a class circle with method perimeter() and use inheritance to create another class cylinder with method perimeter() from it .\n",
    "\n",
    "\n"
   ]
  },
  {
   "cell_type": "code",
   "execution_count": 31,
   "id": "fff53689",
   "metadata": {},
   "outputs": [
    {
     "name": "stdout",
     "output_type": "stream",
     "text": [
      "50.24\n",
      "26\n"
     ]
    }
   ],
   "source": [
    "class circle:\n",
    "    def __init__(self,r):\n",
    "        self.r=r\n",
    "        \n",
    "    def area(self):\n",
    "        print(3.14*self.r**2)\n",
    "        \n",
    "class cylinder(circle):\n",
    "    def __init__(self,r,h):\n",
    "        circle.__init__(self,r)\n",
    "        self.h=h\n",
    "        \n",
    "    def ar(self):\n",
    "        print(4*self.r+(2*self.h))\n",
    "        \n",
    "obj=cylinder(4,5)\n",
    "obj.area()\n",
    "obj.ar()\n",
    "            "
   ]
  },
  {
   "cell_type": "markdown",
   "id": "260ce8a9",
   "metadata": {},
   "source": [
    "3.\tProgram to print employee information with department and pf information using hierarchical inheritance.\n",
    "\tClass BasicInfo with getBasicInfo () – To read name, empid, gender.\n",
    "\tClass deptInfo with \n",
    "deptInfo() – To read dept_name, assignedwork and     time2complete.\n",
    "printDeptInfo() – Display deptInfo\n",
    "\tClass LoanInfo   with \n",
    "       getLoanInfo() –To read loanDeatails and loanAmount.\n",
    " printLoanInfo() – Display name, empid, gender,loanDeatails and loanAmount\n"
   ]
  },
  {
   "cell_type": "code",
   "execution_count": 38,
   "id": "be51ba2c",
   "metadata": {},
   "outputs": [
    {
     "name": "stdout",
     "output_type": "stream",
     "text": [
      "akash\n",
      "289675\n",
      "male\n",
      "20000$\n"
     ]
    }
   ],
   "source": [
    "class basicinfo:\n",
    "    def name(self):\n",
    "        print('akash')\n",
    "    def empid(self):\n",
    "        print(289675)\n",
    "    def gender(self):\n",
    "        print('male')\n",
    "\n",
    "class display(basicinfo):\n",
    "    def depname(self):\n",
    "        print('technical')\n",
    "    def assigin(self):\n",
    "        print('assignment work two time completed')\n",
    "\n",
    "class loaninfo(display):\n",
    "    def amount(self):\n",
    "        print('20000$')\n",
    "\n",
    "obj=loaninfo()\n",
    "obj.name()\n",
    "obj.empid()\n",
    "obj.gender()\n",
    "obj.amount()"
   ]
  },
  {
   "cell_type": "markdown",
   "id": "e0da2387",
   "metadata": {},
   "source": [
    "4.Create a class MyCalculations with following methods –\n",
    "\tdigits () – To find sum of digits of a number\n",
    "\treverse() –To find reverse of a number and a string"
   ]
  },
  {
   "cell_type": "code",
   "execution_count": 5,
   "id": "628b340c",
   "metadata": {},
   "outputs": [
    {
     "name": "stdout",
     "output_type": "stream",
     "text": [
      "enter a number123\n"
     ]
    },
    {
     "ename": "TypeError",
     "evalue": "'int' object is not iterable",
     "output_type": "error",
     "traceback": [
      "\u001b[1;31m---------------------------------------------------------------------------\u001b[0m",
      "\u001b[1;31mTypeError\u001b[0m                                 Traceback (most recent call last)",
      "\u001b[1;32m~\\AppData\\Local\\Temp\\ipykernel_6276\\951137713.py\u001b[0m in \u001b[0;36m<module>\u001b[1;34m\u001b[0m\n\u001b[0;32m     13\u001b[0m         \u001b[0ma\u001b[0m\u001b[1;33m=\u001b[0m\u001b[0ma\u001b[0m\u001b[1;33m//\u001b[0m\u001b[1;36m10\u001b[0m\u001b[1;33m\u001b[0m\u001b[1;33m\u001b[0m\u001b[0m\n\u001b[0;32m     14\u001b[0m \u001b[0ma\u001b[0m\u001b[1;33m=\u001b[0m\u001b[0minput\u001b[0m\u001b[1;33m(\u001b[0m\u001b[1;34m'enter a number'\u001b[0m\u001b[1;33m)\u001b[0m\u001b[1;33m\u001b[0m\u001b[1;33m\u001b[0m\u001b[0m\n\u001b[1;32m---> 15\u001b[1;33m \u001b[0mobj\u001b[0m\u001b[1;33m=\u001b[0m\u001b[0mmycl\u001b[0m\u001b[1;33m(\u001b[0m\u001b[0ma\u001b[0m\u001b[1;33m)\u001b[0m\u001b[1;33m\u001b[0m\u001b[1;33m\u001b[0m\u001b[0m\n\u001b[0m\u001b[0;32m     16\u001b[0m \u001b[0mobj\u001b[0m\u001b[1;33m.\u001b[0m\u001b[0mmycl\u001b[0m\u001b[1;33m(\u001b[0m\u001b[0ma\u001b[0m\u001b[1;33m)\u001b[0m\u001b[1;33m\u001b[0m\u001b[1;33m\u001b[0m\u001b[0m\n",
      "\u001b[1;32m~\\AppData\\Local\\Temp\\ipykernel_6276\\951137713.py\u001b[0m in \u001b[0;36m__init__\u001b[1;34m(self, a)\u001b[0m\n\u001b[0;32m      3\u001b[0m         \u001b[0mself\u001b[0m\u001b[1;33m.\u001b[0m\u001b[0ma\u001b[0m\u001b[1;33m=\u001b[0m\u001b[0ma\u001b[0m\u001b[1;33m\u001b[0m\u001b[1;33m\u001b[0m\u001b[0m\n\u001b[0;32m      4\u001b[0m         \u001b[0msum\u001b[0m\u001b[1;33m=\u001b[0m\u001b[1;36m0\u001b[0m\u001b[1;33m\u001b[0m\u001b[1;33m\u001b[0m\u001b[0m\n\u001b[1;32m----> 5\u001b[1;33m         \u001b[1;32mfor\u001b[0m \u001b[0mi\u001b[0m \u001b[1;32min\u001b[0m \u001b[0mint\u001b[0m\u001b[1;33m(\u001b[0m\u001b[0ma\u001b[0m\u001b[1;33m)\u001b[0m\u001b[1;33m:\u001b[0m\u001b[1;33m\u001b[0m\u001b[1;33m\u001b[0m\u001b[0m\n\u001b[0m\u001b[0;32m      6\u001b[0m             \u001b[0msum\u001b[0m\u001b[1;33m+=\u001b[0m\u001b[0mstr\u001b[0m\u001b[1;33m(\u001b[0m\u001b[0mi\u001b[0m\u001b[1;33m)\u001b[0m\u001b[1;33m\u001b[0m\u001b[1;33m\u001b[0m\u001b[0m\n\u001b[0;32m      7\u001b[0m         \u001b[0mprint\u001b[0m\u001b[1;33m(\u001b[0m\u001b[0msum\u001b[0m\u001b[1;33m)\u001b[0m\u001b[1;33m\u001b[0m\u001b[1;33m\u001b[0m\u001b[0m\n",
      "\u001b[1;31mTypeError\u001b[0m: 'int' object is not iterable"
     ]
    }
   ],
   "source": [
    "class mycl:\n",
    "    def __init__(self,a):\n",
    "        self.a=a\n",
    "        sum=0\n",
    "        for i in int(a):\n",
    "            sum+=str(i)\n",
    "        print(sum)\n",
    "def reverse():\n",
    "    rev=0\n",
    "    while a>0:\n",
    "        b=n%10\n",
    "        rev=rev*10+a\n",
    "        a=a//10\n",
    "a=input('enter a number')\n",
    "obj=mycl(a)\n",
    "obj.mycl(a)\n"
   ]
  },
  {
   "cell_type": "code",
   "execution_count": null,
   "id": "e917fe76",
   "metadata": {},
   "outputs": [],
   "source": []
  }
 ],
 "metadata": {
  "kernelspec": {
   "display_name": "Python 3 (ipykernel)",
   "language": "python",
   "name": "python3"
  },
  "language_info": {
   "codemirror_mode": {
    "name": "ipython",
    "version": 3
   },
   "file_extension": ".py",
   "mimetype": "text/x-python",
   "name": "python",
   "nbconvert_exporter": "python",
   "pygments_lexer": "ipython3",
   "version": "3.9.13"
  }
 },
 "nbformat": 4,
 "nbformat_minor": 5
}
