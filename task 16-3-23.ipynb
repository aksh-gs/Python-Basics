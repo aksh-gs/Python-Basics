{
 "cells": [
  {
   "cell_type": "markdown",
   "id": "d1d264c2",
   "metadata": {},
   "source": [
    "1. With a given tuple (1,2,3,4,5,6,7,8,9,10), write a program to print the first half values in one line and the last half values in one line.\n",
    "Hints:\n",
    "Use [n1:n2] notation to get a slice from a tuple.\n"
   ]
  },
  {
   "cell_type": "code",
   "execution_count": 1,
   "id": "217fca64",
   "metadata": {},
   "outputs": [
    {
     "name": "stdout",
     "output_type": "stream",
     "text": [
      "(1, 2, 3, 4, 5)\n",
      "(6, 7, 8, 9, 10)\n"
     ]
    },
    {
     "data": {
      "text/plain": [
       "tuple"
      ]
     },
     "execution_count": 1,
     "metadata": {},
     "output_type": "execute_result"
    }
   ],
   "source": [
    "tu=(1,2,3,4,5,6,7,8,9,10)\n",
    "a=list(tu)\n",
    "print(tuple(tu[0:5]))\n",
    "print(tuple(tu[5::]))\n",
    "type(tu)"
   ]
  },
  {
   "cell_type": "markdown",
   "id": "81fb73b3",
   "metadata": {},
   "source": [
    "2. Write a program to generate and print another tuple whose values are even numbers in the given tuple (1,2,3,4,5,6,7,8,9,10).\n",
    "Hints:\n",
    "Use \"for\" to iterate the tuple\n",
    "Use tuple() to generate a tuple from a list."
   ]
  },
  {
   "cell_type": "code",
   "execution_count": 29,
   "id": "f4efb6ba",
   "metadata": {},
   "outputs": [
    {
     "name": "stdout",
     "output_type": "stream",
     "text": [
      "(2, 4, 6, 8, 10)\n"
     ]
    },
    {
     "data": {
      "text/plain": [
       "tuple"
      ]
     },
     "execution_count": 29,
     "metadata": {},
     "output_type": "execute_result"
    }
   ],
   "source": [
    "mytuple=(1,2,3,4,5,6,7,8,10)\n",
    "li=[]\n",
    "for i in mytuple:\n",
    "    if i%2==0:\n",
    "        li.append(i)\n",
    "mytuple2=tuple(li)\n",
    "print(mytuple2)\n",
    "type(mytuple2)\n"
   ]
  },
  {
   "cell_type": "markdown",
   "id": "21a1b415",
   "metadata": {},
   "source": [
    "3. Write a program which accepts a string as input to print \"Yes\" if the string is \"yes\" or \"YES\" or \"Yes\", otherwise print \"No\".\n",
    "Hints:\n",
    "Use if statement to judge condition."
   ]
  },
  {
   "cell_type": "code",
   "execution_count": 20,
   "id": "c08266c1",
   "metadata": {},
   "outputs": [
    {
     "name": "stdout",
     "output_type": "stream",
     "text": [
      "enter yes or nono\n",
      "NO\n"
     ]
    }
   ],
   "source": [
    "a=(input('enter yes or no'))\n",
    "if a=='yes' or a=='YES' or a=='Yes':\n",
    "    print('YES')\n",
    "else:\n",
    "    print('NO')"
   ]
  },
  {
   "cell_type": "markdown",
   "id": "c2cccc32",
   "metadata": {},
   "source": [
    "4. Write a program which can filter even numbers in a list by using filter function. The list is: [1,2,3,4,5,6,7,8,9,10].\n",
    "Hints:\n",
    "Use filter() to filter some elements in a list.\n",
    "Use lambda to define anonymous functions."
   ]
  },
  {
   "cell_type": "code",
   "execution_count": 19,
   "id": "fb7c9cfa",
   "metadata": {},
   "outputs": [
    {
     "name": "stdout",
     "output_type": "stream",
     "text": [
      "[2, 4, 6, 8, 10]\n"
     ]
    }
   ],
   "source": [
    "li=[1,2,3,4,5,6,7,8,9,10]\n",
    "a=list(filter(lambda x:x%2==0,li))\n",
    "print(a)\n"
   ]
  },
  {
   "cell_type": "markdown",
   "id": "cc24c801",
   "metadata": {},
   "source": [
    "5. Write a program which can map() to make a list whose elements are square of elements in [1,2,3,4,5,6,7,8,9,10].\n",
    "Hints:\n",
    "Use map() to generate a list.\n",
    "Use lambda to define anonymous functions.\n"
   ]
  },
  {
   "cell_type": "code",
   "execution_count": 22,
   "id": "69a92d8e",
   "metadata": {},
   "outputs": [
    {
     "name": "stdout",
     "output_type": "stream",
     "text": [
      "[1, 4, 9, 16, 25, 36, 49, 64, 81, 100]\n"
     ]
    }
   ],
   "source": [
    "new= [1,2,3,4,5,6,7,8,9,10]\n",
    "a=list(map(lambda x:x**2,new))\n",
    "print(a)"
   ]
  },
  {
   "cell_type": "markdown",
   "id": "110eb799",
   "metadata": {},
   "source": [
    "6. Write a program which can map() and filter() to make a list whose elements are square of even number in [1,2,3,4,5,6,7,8,9,10].\n",
    "Hints:\n",
    "Use map() to generate a list.\n",
    "Use filter() to filter elements of a list.\n",
    "Use lambda to define anonymous functions."
   ]
  },
  {
   "cell_type": "code",
   "execution_count": 23,
   "id": "892f42c2",
   "metadata": {},
   "outputs": [
    {
     "name": "stdout",
     "output_type": "stream",
     "text": [
      "[4, 16, 36, 64, 100]\n"
     ]
    }
   ],
   "source": [
    "even=[1,2,3,4,5,6,7,8,9,10]\n",
    "b=list(map(lambda x:x**2,filter(lambda x:x%2==0,even)))\n",
    "print(b)"
   ]
  },
  {
   "cell_type": "markdown",
   "id": "cd15f008",
   "metadata": {},
   "source": [
    "7. Write a program which can filter() to make a list whose elements are even number between 1 and 20 (both included).\n",
    "Hints:\n",
    "Use filter() to filter elements of a list.\n",
    "Use lambda to define anonymous funct"
   ]
  },
  {
   "cell_type": "code",
   "execution_count": 25,
   "id": "b116893a",
   "metadata": {},
   "outputs": [
    {
     "name": "stdout",
     "output_type": "stream",
     "text": [
      "[2, 4, 6, 8, 10, 12, 14, 16, 18, 20]\n"
     ]
    }
   ],
   "source": [
    "a=[*range(1,21)]\n",
    "b=list(filter(lambda x:x%2==0,a))\n",
    "print(b)"
   ]
  },
  {
   "cell_type": "markdown",
   "id": "0f60f957",
   "metadata": {},
   "source": [
    "8.Write a program which can map() to make a list whose elements are square of numbers between 1 and 20 (both included).\n",
    "Hints:\n",
    "Use map() to generate a list.\n",
    "Use lambda to define anonymous function"
   ]
  },
  {
   "cell_type": "code",
   "execution_count": 1,
   "id": "8ce5b661",
   "metadata": {},
   "outputs": [
    {
     "name": "stdout",
     "output_type": "stream",
     "text": [
      "[1, 4, 9, 16, 25, 36, 49, 64, 81, 100, 121, 144, 169, 196, 225, 256, 289, 324, 361, 400]\n"
     ]
    }
   ],
   "source": [
    "sqr=[*range(1,21)]\n",
    "n=list(map(lambda x:x**2,sqr))\n",
    "print(n)"
   ]
  },
  {
   "cell_type": "code",
   "execution_count": null,
   "id": "c7ffb817",
   "metadata": {},
   "outputs": [],
   "source": []
  }
 ],
 "metadata": {
  "kernelspec": {
   "display_name": "Python 3 (ipykernel)",
   "language": "python",
   "name": "python3"
  },
  "language_info": {
   "codemirror_mode": {
    "name": "ipython",
    "version": 3
   },
   "file_extension": ".py",
   "mimetype": "text/x-python",
   "name": "python",
   "nbconvert_exporter": "python",
   "pygments_lexer": "ipython3",
   "version": "3.9.13"
  }
 },
 "nbformat": 4,
 "nbformat_minor": 5
}
